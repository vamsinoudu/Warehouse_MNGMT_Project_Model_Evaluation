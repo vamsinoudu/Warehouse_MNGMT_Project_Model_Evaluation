{
 "cells": [
  {
   "cell_type": "code",
   "execution_count": 1,
   "id": "e290837b",
   "metadata": {},
   "outputs": [],
   "source": [
    "import numpy as np\n",
    "import pandas as pd\n",
    "import matplotlib.pyplot as plt\n",
    "import seaborn as sns\n",
    "import warnings \n",
    "warnings.filterwarnings('ignore')"
   ]
  },
  {
   "cell_type": "code",
   "execution_count": 2,
   "id": "51689cb0",
   "metadata": {},
   "outputs": [],
   "source": [
    "#loading Dataset \n",
    "\n",
    "df=pd.read_csv(\"C:\\\\Users\\\\vamsi\\\\OneDrive\\\\Desktop\\\\Vamshi Data\\\\Supplychain train dataset.csv\")"
   ]
  },
  {
   "cell_type": "code",
   "execution_count": 3,
   "id": "2b5b5187",
   "metadata": {},
   "outputs": [
    {
     "data": {
      "text/plain": [
       "Ware_house_ID                       0\n",
       "WH_Manager_ID                       0\n",
       "Location_type                       0\n",
       "WH_capacity_size                    0\n",
       "zone                                0\n",
       "WH_regional_zone                    0\n",
       "num_refill_req_l3m                  0\n",
       "transport_issue_l1y                 0\n",
       "Competitor_in_mkt                   0\n",
       "retail_shop_num                     0\n",
       "wh_owner_type                       0\n",
       "distributor_num                     0\n",
       "flood_impacted                      0\n",
       "flood_proof                         0\n",
       "electric_supply                     0\n",
       "dist_from_hub                       0\n",
       "workers_num                       877\n",
       "wh_est_year                     10545\n",
       "storage_issue_reported_l3m          0\n",
       "temp_reg_mach                       0\n",
       "approved_wh_govt_certificate      805\n",
       "wh_breakdown_l3m                    0\n",
       "govt_check_l3m                      0\n",
       "product_wg_ton                      0\n",
       "dtype: int64"
      ]
     },
     "execution_count": 3,
     "metadata": {},
     "output_type": "execute_result"
    }
   ],
   "source": [
    "#Checking missing values:\n",
    "df.isnull().sum().T"
   ]
  },
  {
   "cell_type": "code",
   "execution_count": 4,
   "id": "6d2aa985",
   "metadata": {},
   "outputs": [
    {
     "data": {
      "text/html": [
       "<div>\n",
       "<style scoped>\n",
       "    .dataframe tbody tr th:only-of-type {\n",
       "        vertical-align: middle;\n",
       "    }\n",
       "\n",
       "    .dataframe tbody tr th {\n",
       "        vertical-align: top;\n",
       "    }\n",
       "\n",
       "    .dataframe thead th {\n",
       "        text-align: right;\n",
       "    }\n",
       "</style>\n",
       "<table border=\"1\" class=\"dataframe\">\n",
       "  <thead>\n",
       "    <tr style=\"text-align: right;\">\n",
       "      <th></th>\n",
       "      <th>Ware_house_ID</th>\n",
       "      <th>WH_Manager_ID</th>\n",
       "      <th>Location_type</th>\n",
       "      <th>WH_capacity_size</th>\n",
       "      <th>zone</th>\n",
       "      <th>WH_regional_zone</th>\n",
       "      <th>num_refill_req_l3m</th>\n",
       "      <th>transport_issue_l1y</th>\n",
       "      <th>Competitor_in_mkt</th>\n",
       "      <th>retail_shop_num</th>\n",
       "      <th>...</th>\n",
       "      <th>electric_supply</th>\n",
       "      <th>dist_from_hub</th>\n",
       "      <th>workers_num</th>\n",
       "      <th>wh_est_year</th>\n",
       "      <th>storage_issue_reported_l3m</th>\n",
       "      <th>temp_reg_mach</th>\n",
       "      <th>approved_wh_govt_certificate</th>\n",
       "      <th>wh_breakdown_l3m</th>\n",
       "      <th>govt_check_l3m</th>\n",
       "      <th>product_wg_ton</th>\n",
       "    </tr>\n",
       "  </thead>\n",
       "  <tbody>\n",
       "    <tr>\n",
       "      <th>0</th>\n",
       "      <td>WH_100000</td>\n",
       "      <td>EID_50000</td>\n",
       "      <td>Urban</td>\n",
       "      <td>Small</td>\n",
       "      <td>West</td>\n",
       "      <td>Zone 6</td>\n",
       "      <td>3</td>\n",
       "      <td>1</td>\n",
       "      <td>2</td>\n",
       "      <td>4651</td>\n",
       "      <td>...</td>\n",
       "      <td>1</td>\n",
       "      <td>91</td>\n",
       "      <td>29.0</td>\n",
       "      <td>NaN</td>\n",
       "      <td>13</td>\n",
       "      <td>0</td>\n",
       "      <td>A</td>\n",
       "      <td>5</td>\n",
       "      <td>15</td>\n",
       "      <td>17115</td>\n",
       "    </tr>\n",
       "    <tr>\n",
       "      <th>1</th>\n",
       "      <td>WH_100001</td>\n",
       "      <td>EID_50001</td>\n",
       "      <td>Rural</td>\n",
       "      <td>Large</td>\n",
       "      <td>North</td>\n",
       "      <td>Zone 5</td>\n",
       "      <td>0</td>\n",
       "      <td>0</td>\n",
       "      <td>4</td>\n",
       "      <td>6217</td>\n",
       "      <td>...</td>\n",
       "      <td>1</td>\n",
       "      <td>210</td>\n",
       "      <td>31.0</td>\n",
       "      <td>NaN</td>\n",
       "      <td>4</td>\n",
       "      <td>0</td>\n",
       "      <td>A</td>\n",
       "      <td>3</td>\n",
       "      <td>17</td>\n",
       "      <td>5074</td>\n",
       "    </tr>\n",
       "    <tr>\n",
       "      <th>2</th>\n",
       "      <td>WH_100002</td>\n",
       "      <td>EID_50002</td>\n",
       "      <td>Rural</td>\n",
       "      <td>Mid</td>\n",
       "      <td>South</td>\n",
       "      <td>Zone 2</td>\n",
       "      <td>1</td>\n",
       "      <td>0</td>\n",
       "      <td>4</td>\n",
       "      <td>4306</td>\n",
       "      <td>...</td>\n",
       "      <td>0</td>\n",
       "      <td>161</td>\n",
       "      <td>37.0</td>\n",
       "      <td>NaN</td>\n",
       "      <td>17</td>\n",
       "      <td>0</td>\n",
       "      <td>A</td>\n",
       "      <td>6</td>\n",
       "      <td>22</td>\n",
       "      <td>23137</td>\n",
       "    </tr>\n",
       "    <tr>\n",
       "      <th>3</th>\n",
       "      <td>WH_100003</td>\n",
       "      <td>EID_50003</td>\n",
       "      <td>Rural</td>\n",
       "      <td>Mid</td>\n",
       "      <td>North</td>\n",
       "      <td>Zone 3</td>\n",
       "      <td>7</td>\n",
       "      <td>4</td>\n",
       "      <td>2</td>\n",
       "      <td>6000</td>\n",
       "      <td>...</td>\n",
       "      <td>0</td>\n",
       "      <td>103</td>\n",
       "      <td>21.0</td>\n",
       "      <td>NaN</td>\n",
       "      <td>17</td>\n",
       "      <td>1</td>\n",
       "      <td>A+</td>\n",
       "      <td>3</td>\n",
       "      <td>27</td>\n",
       "      <td>22115</td>\n",
       "    </tr>\n",
       "    <tr>\n",
       "      <th>4</th>\n",
       "      <td>WH_100004</td>\n",
       "      <td>EID_50004</td>\n",
       "      <td>Rural</td>\n",
       "      <td>Large</td>\n",
       "      <td>North</td>\n",
       "      <td>Zone 5</td>\n",
       "      <td>3</td>\n",
       "      <td>1</td>\n",
       "      <td>2</td>\n",
       "      <td>4740</td>\n",
       "      <td>...</td>\n",
       "      <td>1</td>\n",
       "      <td>112</td>\n",
       "      <td>25.0</td>\n",
       "      <td>2009.0</td>\n",
       "      <td>18</td>\n",
       "      <td>0</td>\n",
       "      <td>C</td>\n",
       "      <td>6</td>\n",
       "      <td>24</td>\n",
       "      <td>24071</td>\n",
       "    </tr>\n",
       "  </tbody>\n",
       "</table>\n",
       "<p>5 rows × 24 columns</p>\n",
       "</div>"
      ],
      "text/plain": [
       "  Ware_house_ID WH_Manager_ID Location_type WH_capacity_size   zone  \\\n",
       "0     WH_100000     EID_50000         Urban            Small   West   \n",
       "1     WH_100001     EID_50001         Rural            Large  North   \n",
       "2     WH_100002     EID_50002         Rural              Mid  South   \n",
       "3     WH_100003     EID_50003         Rural              Mid  North   \n",
       "4     WH_100004     EID_50004         Rural            Large  North   \n",
       "\n",
       "  WH_regional_zone  num_refill_req_l3m  transport_issue_l1y  \\\n",
       "0           Zone 6                   3                    1   \n",
       "1           Zone 5                   0                    0   \n",
       "2           Zone 2                   1                    0   \n",
       "3           Zone 3                   7                    4   \n",
       "4           Zone 5                   3                    1   \n",
       "\n",
       "   Competitor_in_mkt  retail_shop_num  ... electric_supply  dist_from_hub  \\\n",
       "0                  2             4651  ...               1             91   \n",
       "1                  4             6217  ...               1            210   \n",
       "2                  4             4306  ...               0            161   \n",
       "3                  2             6000  ...               0            103   \n",
       "4                  2             4740  ...               1            112   \n",
       "\n",
       "   workers_num  wh_est_year  storage_issue_reported_l3m  temp_reg_mach  \\\n",
       "0         29.0          NaN                          13              0   \n",
       "1         31.0          NaN                           4              0   \n",
       "2         37.0          NaN                          17              0   \n",
       "3         21.0          NaN                          17              1   \n",
       "4         25.0       2009.0                          18              0   \n",
       "\n",
       "   approved_wh_govt_certificate  wh_breakdown_l3m  govt_check_l3m  \\\n",
       "0                             A                 5              15   \n",
       "1                             A                 3              17   \n",
       "2                             A                 6              22   \n",
       "3                            A+                 3              27   \n",
       "4                             C                 6              24   \n",
       "\n",
       "   product_wg_ton  \n",
       "0           17115  \n",
       "1            5074  \n",
       "2           23137  \n",
       "3           22115  \n",
       "4           24071  \n",
       "\n",
       "[5 rows x 24 columns]"
      ]
     },
     "execution_count": 4,
     "metadata": {},
     "output_type": "execute_result"
    }
   ],
   "source": [
    "df1=df.copy()\n",
    "df1.head()"
   ]
  },
  {
   "cell_type": "code",
   "execution_count": 5,
   "id": "c7de2917",
   "metadata": {},
   "outputs": [
    {
     "data": {
      "text/plain": [
       "Index(['Ware_house_ID', 'WH_Manager_ID', 'Location_type', 'WH_capacity_size',\n",
       "       'zone', 'WH_regional_zone', 'num_refill_req_l3m', 'transport_issue_l1y',\n",
       "       'Competitor_in_mkt', 'retail_shop_num', 'wh_owner_type',\n",
       "       'distributor_num', 'flood_impacted', 'flood_proof', 'electric_supply',\n",
       "       'dist_from_hub', 'workers_num', 'wh_est_year',\n",
       "       'storage_issue_reported_l3m', 'temp_reg_mach',\n",
       "       'approved_wh_govt_certificate', 'wh_breakdown_l3m', 'govt_check_l3m',\n",
       "       'product_wg_ton'],\n",
       "      dtype='object')"
      ]
     },
     "execution_count": 5,
     "metadata": {},
     "output_type": "execute_result"
    }
   ],
   "source": [
    "df1.columns"
   ]
  },
  {
   "cell_type": "code",
   "execution_count": 6,
   "id": "e29c4cc3",
   "metadata": {},
   "outputs": [],
   "source": [
    "# Missing Values Imputation "
   ]
  },
  {
   "cell_type": "code",
   "execution_count": 7,
   "id": "339fb713",
   "metadata": {},
   "outputs": [],
   "source": [
    "df1['workers_num'].fillna(df1['workers_num'].median(),inplace=True)"
   ]
  },
  {
   "cell_type": "code",
   "execution_count": 8,
   "id": "9d1e85ee",
   "metadata": {},
   "outputs": [
    {
     "data": {
      "text/plain": [
       "28.0"
      ]
     },
     "execution_count": 8,
     "metadata": {},
     "output_type": "execute_result"
    }
   ],
   "source": [
    "df1['workers_num'].median()"
   ]
  },
  {
   "cell_type": "code",
   "execution_count": 9,
   "id": "84407907",
   "metadata": {},
   "outputs": [],
   "source": [
    "df1['wh_est_year'].fillna(df1['wh_est_year'].median(),inplace=True)"
   ]
  },
  {
   "cell_type": "code",
   "execution_count": 10,
   "id": "0221b8fb",
   "metadata": {},
   "outputs": [
    {
     "data": {
      "text/plain": [
       "2009.0"
      ]
     },
     "execution_count": 10,
     "metadata": {},
     "output_type": "execute_result"
    }
   ],
   "source": [
    "df1['wh_est_year'].median()"
   ]
  },
  {
   "cell_type": "code",
   "execution_count": 11,
   "id": "b7d55f78",
   "metadata": {},
   "outputs": [],
   "source": [
    "df1['approved_wh_govt_certificate'].fillna(df1['approved_wh_govt_certificate'].mode()[0],inplace=True)"
   ]
  },
  {
   "cell_type": "code",
   "execution_count": 12,
   "id": "bef56ff8",
   "metadata": {},
   "outputs": [
    {
     "data": {
      "text/plain": [
       "0    C\n",
       "dtype: object"
      ]
     },
     "execution_count": 12,
     "metadata": {},
     "output_type": "execute_result"
    }
   ],
   "source": [
    "df1['approved_wh_govt_certificate'].mode()"
   ]
  },
  {
   "cell_type": "code",
   "execution_count": 13,
   "id": "95b63b01",
   "metadata": {},
   "outputs": [
    {
     "data": {
      "text/plain": [
       "Ware_house_ID                   0\n",
       "WH_Manager_ID                   0\n",
       "Location_type                   0\n",
       "WH_capacity_size                0\n",
       "zone                            0\n",
       "WH_regional_zone                0\n",
       "num_refill_req_l3m              0\n",
       "transport_issue_l1y             0\n",
       "Competitor_in_mkt               0\n",
       "retail_shop_num                 0\n",
       "wh_owner_type                   0\n",
       "distributor_num                 0\n",
       "flood_impacted                  0\n",
       "flood_proof                     0\n",
       "electric_supply                 0\n",
       "dist_from_hub                   0\n",
       "workers_num                     0\n",
       "wh_est_year                     0\n",
       "storage_issue_reported_l3m      0\n",
       "temp_reg_mach                   0\n",
       "approved_wh_govt_certificate    0\n",
       "wh_breakdown_l3m                0\n",
       "govt_check_l3m                  0\n",
       "product_wg_ton                  0\n",
       "dtype: int64"
      ]
     },
     "execution_count": 13,
     "metadata": {},
     "output_type": "execute_result"
    }
   ],
   "source": [
    "df1.isnull().sum()"
   ]
  },
  {
   "cell_type": "raw",
   "id": "6783e55e",
   "metadata": {},
   "source": [
    "#NO missing values:\n",
    "Workers_num have 0 Missing values\n",
    "wh_est_year have 0 Missing Values\n",
    "approved_wh_govt_certificate have 0 Missing Values"
   ]
  },
  {
   "cell_type": "markdown",
   "id": "73bdeccf",
   "metadata": {},
   "source": [
    "# Outlinear Detection :"
   ]
  },
  {
   "cell_type": "code",
   "execution_count": 14,
   "id": "8d47c9e2",
   "metadata": {},
   "outputs": [
    {
     "data": {
      "image/png": "[encoded data removed]",
      "text/plain": [
       "<Figure size 432x288 with 1 Axes>"
      ]
     },
     "metadata": {
      "needs_background": "light"
     },
     "output_type": "display_data"
    },
    {
     "data": {
      "image/png": "[encoded data removed]",
      "text/plain": [
       "<Figure size 432x288 with 1 Axes>"
      ]
     },
     "metadata": {
      "needs_background": "light"
     },
     "output_type": "display_data"
    },
    {
     "data": {
      "image/png": "[encoded data removed]",
      "text/plain": [
       "<Figure size 432x288 with 1 Axes>"
      ]
     },
     "metadata": {
      "needs_background": "light"
     },
     "output_type": "display_data"
    },
    {
     "data": {
      "image/png": "[encoded data removed]",
      "text/plain": [
       "<Figure size 432x288 with 1 Axes>"
      ]
     },
     "metadata": {
      "needs_background": "light"
     },
     "output_type": "display_data"
    },
    {
     "data": {
      "image/png": "[encoded data removed]",
      "text/plain": [
       "<Figure size 432x288 with 1 Axes>"
      ]
     },
     "metadata": {
      "needs_background": "light"
     },
     "output_type": "display_data"
    },
    {
     "data": {
      "image/png": "[encoded data removed]",
      "text/plain": [
       "<Figure size 432x288 with 1 Axes>"
      ]
     },
     "metadata": {
      "needs_background": "light"
     },
     "output_type": "display_data"
    },
    {
     "data": {
      "image/png": "[encoded data removed]",
      "text/plain": [
       "<Figure size 432x288 with 1 Axes>"
      ]
     },
     "metadata": {
      "needs_background": "light"
     },
     "output_type": "display_data"
    },
    {
     "data": {
      "image/png": "[encoded data removed]",
      "text/plain": [
       "<Figure size 432x288 with 1 Axes>"
      ]
     },
     "metadata": {
      "needs_background": "light"
     },
     "output_type": "display_data"
    },
    {
     "data": {
      "image/png": "[encoded data removed]",
      "text/plain": [
       "<Figure size 432x288 with 1 Axes>"
      ]
     },
     "metadata": {
      "needs_background": "light"
     },
     "output_type": "display_data"
    },
    {
     "data": {
      "image/png": "[encoded data removed]",
      "text/plain": [
       "<Figure size 432x288 with 1 Axes>"
      ]
     },
     "metadata": {
      "needs_background": "light"
     },
     "output_type": "display_data"
    },
    {
     "data": {
      "image/png": "[encoded data removed]",
      "text/plain": [
       "<Figure size 432x288 with 1 Axes>"
      ]
     },
     "metadata": {
      "needs_background": "light"
     },
     "output_type": "display_data"
    },
    {
     "data": {
      "image/png": "[encoded data removed]",
      "text/plain": [
       "<Figure size 432x288 with 1 Axes>"
      ]
     },
     "metadata": {
      "needs_background": "light"
     },
     "output_type": "display_data"
    },
    {
     "data": {
      "image/png": "[encoded data removed]",
      "text/plain": [
       "<Figure size 432x288 with 1 Axes>"
      ]
     },
     "metadata": {
      "needs_background": "light"
     },
     "output_type": "display_data"
    },
    {
     "data": {
      "image/png": "[encoded data removed]",
      "text/plain": [
       "<Figure size 432x288 with 1 Axes>"
      ]
     },
     "metadata": {
      "needs_background": "light"
     },
     "output_type": "display_data"
    },
    {
     "data": {
      "image/png": "[encoded data removed]",
      "text/plain": [
       "<Figure size 432x288 with 1 Axes>"
      ]
     },
     "metadata": {
      "needs_background": "light"
     },
     "output_type": "display_data"
    },
    {
     "data": {
      "image/png": "[encoded data removed]",
      "text/plain": [
       "<Figure size 432x288 with 1 Axes>"
      ]
     },
     "metadata": {
      "needs_background": "light"
     },
     "output_type": "display_data"
    }
   ],
   "source": [
    "for col in df1.describe().columns:\n",
    "    sns.boxplot(df1[col])\n",
    "    plt.show()"
   ]
  },
  {
   "cell_type": "code",
   "execution_count": 15,
   "id": "6a32d211",
   "metadata": {},
   "outputs": [],
   "source": [
    "col_sel=['transport_issue_l1y','Competitor_in_mkt','retail_shop_num','distributor_num','flood_impacted','flood_proof','workers_num','wh_est_year']\n",
    "def iqr_capping(df1, cols, factor):\n",
    "    \n",
    "    for col in cols:\n",
    "        \n",
    "        q1 = df1[col].quantile(0.25)\n",
    "        q3 = df1[col].quantile(0.75)\n",
    "        \n",
    "        iqr = q3 - q1\n",
    "        \n",
    "        upper_whisker = q3 + (factor*iqr)\n",
    "        lower_whisker = q1 - (factor*iqr)\n",
    "        \n",
    "        df1[col] = np.where(df1[col]>upper_whisker, upper_whisker,\n",
    "                 np.where(df1[col]<lower_whisker, lower_whisker, df1[col]))\n",
    "\n",
    "\n",
    "iqr_capping(df1, col_sel, 1.5)"
   ]
  },
  {
   "cell_type": "code",
   "execution_count": 16,
   "id": "661eef4c",
   "metadata": {},
   "outputs": [
    {
     "data": {
      "image/png": "[encoded data removed]",
      "text/plain": [
       "<Figure size 432x288 with 1 Axes>"
      ]
     },
     "metadata": {
      "needs_background": "light"
     },
     "output_type": "display_data"
    },
    {
     "data": {
      "image/png": "[encoded data removed]",
      "text/plain": [
       "<Figure size 432x288 with 1 Axes>"
      ]
     },
     "metadata": {
      "needs_background": "light"
     },
     "output_type": "display_data"
    },
    {
     "data": {
      "image/png": "[encoded data removed]",
      "text/plain": [
       "<Figure size 432x288 with 1 Axes>"
      ]
     },
     "metadata": {
      "needs_background": "light"
     },
     "output_type": "display_data"
    },
    {
     "data": {
      "image/png": "[encoded data removed]",
      "text/plain": [
       "<Figure size 432x288 with 1 Axes>"
      ]
     },
     "metadata": {
      "needs_background": "light"
     },
     "output_type": "display_data"
    },
    {
     "data": {
      "image/png": "[encoded data removed]",
      "text/plain": [
       "<Figure size 432x288 with 1 Axes>"
      ]
     },
     "metadata": {
      "needs_background": "light"
     },
     "output_type": "display_data"
    },
    {
     "data": {
      "image/png": "[encoded data removed]",
      "text/plain": [
       "<Figure size 432x288 with 1 Axes>"
      ]
     },
     "metadata": {
      "needs_background": "light"
     },
     "output_type": "display_data"
    },
    {
     "data": {
      "image/png": "[encoded data removed]",
      "text/plain": [
       "<Figure size 432x288 with 1 Axes>"
      ]
     },
     "metadata": {
      "needs_background": "light"
     },
     "output_type": "display_data"
    },
    {
     "data": {
      "image/png": "[encoded data removed]",
      "text/plain": [
       "<Figure size 432x288 with 1 Axes>"
      ]
     },
     "metadata": {
      "needs_background": "light"
     },
     "output_type": "display_data"
    },
    {
     "data": {
      "image/png": "[encoded data removed]",
      "text/plain": [
       "<Figure size 432x288 with 1 Axes>"
      ]
     },
     "metadata": {
      "needs_background": "light"
     },
     "output_type": "display_data"
    },
    {
     "data": {
      "image/png": "[encoded data removed]",
      "text/plain": [
       "<Figure size 432x288 with 1 Axes>"
      ]
     },
     "metadata": {
      "needs_background": "light"
     },
     "output_type": "display_data"
    },
    {
     "data": {
      "image/png": "[encoded data removed]",
      "text/plain": [
       "<Figure size 432x288 with 1 Axes>"
      ]
     },
     "metadata": {
      "needs_background": "light"
     },
     "output_type": "display_data"
    },
    {
     "data": {
      "image/png": "[encoded data removed]",
      "text/plain": [
       "<Figure size 432x288 with 1 Axes>"
      ]
     },
     "metadata": {
      "needs_background": "light"
     },
     "output_type": "display_data"
    },
    {
     "data": {
      "image/png": "[encoded data removed]",
      "text/plain": [
       "<Figure size 432x288 with 1 Axes>"
      ]
     },
     "metadata": {
      "needs_background": "light"
     },
     "output_type": "display_data"
    },
    {
     "data": {
      "image/png": "[encoded data removed]",
      "text/plain": [
       "<Figure size 432x288 with 1 Axes>"
      ]
     },
     "metadata": {
      "needs_background": "light"
     },
     "output_type": "display_data"
    },
    {
     "data": {
      "image/png": "[encoded data removed]",
      "text/plain": [
       "<Figure size 432x288 with 1 Axes>"
      ]
     },
     "metadata": {
      "needs_background": "light"
     },
     "output_type": "display_data"
    },
    {
     "data": {
      "image/png": "[encoded data removed]",
      "text/plain": [
       "<Figure size 432x288 with 1 Axes>"
      ]
     },
     "metadata": {
      "needs_background": "light"
     },
     "output_type": "display_data"
    }
   ],
   "source": [
    "#Removed outliers:\n",
    "for col in df1.describe().columns:\n",
    "    sns.boxplot(df1[col])\n",
    "    plt.show()"
   ]
  },
  {
   "cell_type": "markdown",
   "id": "d8ddc31e",
   "metadata": {},
   "source": [
    "# Feature Engineering\n"
   ]
  },
  {
   "cell_type": "markdown",
   "id": "985a5511",
   "metadata": {},
   "source": [
    "# temp_reg_mach:"
   ]
  },
  {
   "cell_type": "code",
   "execution_count": 17,
   "id": "04ee9d75",
   "metadata": {},
   "outputs": [],
   "source": [
    "df1['New_temp_reg_mach']=(df1['temp_reg_mach']+df1['electric_supply'])"
   ]
  },
  {
   "cell_type": "code",
   "execution_count": 18,
   "id": "978c434d",
   "metadata": {},
   "outputs": [
    {
     "name": "stdout",
     "output_type": "stream",
     "text": [
      "chi2_value:   9255.6\n",
      "p_value: 0.014825\n",
      "dof_value:  8962\n"
     ]
    }
   ],
   "source": [
    "#Chi2_Square test:\n",
    "from scipy.stats import chi2_contingency\n",
    "hypothesis=pd.crosstab(df1['New_temp_reg_mach'],df1['product_wg_ton'])\n",
    "chi2_stat,p,dof,expected=chi2_contingency(hypothesis)\n",
    "print(f\"chi2_value:   {chi2_stat:0.5g}\")\n",
    "print(f\"p_value: {p:0.5g}\")\n",
    "print(f\"dof_value:  {dof:0.5g}\")"
   ]
  },
  {
   "cell_type": "code",
   "execution_count": 19,
   "id": "49d4ae46",
   "metadata": {},
   "outputs": [
    {
     "name": "stdout",
     "output_type": "stream",
     "text": [
      "z_value:  [1. 1. 1. ... 1. 1. 1.]\n",
      "p_Value:  0.014825195086628745\n"
     ]
    }
   ],
   "source": [
    "#two sample Z test:\n",
    "from statsmodels.stats.weightstats import ztest as ztest\n",
    "hyp=pd.crosstab(df1['New_temp_reg_mach'],df1['product_wg_ton'])\n",
    "z,pval=ztest(hyp)\n",
    "print(\"z_value: \",z)\n",
    "print(\"p_Value: \",p)"
   ]
  },
  {
   "cell_type": "markdown",
   "id": "8f030c2c",
   "metadata": {},
   "source": [
    "# Drop:\n",
    "Drop the feature due to p value less than Alpha Value\n",
    "No need to create new column."
   ]
  },
  {
   "cell_type": "code",
   "execution_count": 20,
   "id": "3297efbe",
   "metadata": {},
   "outputs": [],
   "source": [
    "df1=df1.drop(['New_temp_reg_mach'],axis=1)"
   ]
  },
  {
   "cell_type": "markdown",
   "id": "edba4708",
   "metadata": {},
   "source": [
    "# approved_wh_govt_certificate:"
   ]
  },
  {
   "cell_type": "code",
   "execution_count": 21,
   "id": "8b40abf2",
   "metadata": {},
   "outputs": [],
   "source": [
    "df1['New_approved_wh_govt_cert']=(df1['approved_wh_govt_certificate']+df1['WH_regional_zone'])"
   ]
  },
  {
   "cell_type": "code",
   "execution_count": 22,
   "id": "3c09732b",
   "metadata": {},
   "outputs": [],
   "source": [
    "import statsmodels.api as sm\n",
    "from statsmodels.formula.api import ols\n",
    "\n",
    "new=ols('product_wg_ton ~ New_approved_wh_govt_cert',data=df1).fit()\n",
    "Anova=sm.stats.anova_lm(new,typ=2)"
   ]
  },
  {
   "cell_type": "code",
   "execution_count": 23,
   "id": "8af71400",
   "metadata": {},
   "outputs": [
    {
     "data": {
      "text/html": [
       "<div>\n",
       "<style scoped>\n",
       "    .dataframe tbody tr th:only-of-type {\n",
       "        vertical-align: middle;\n",
       "    }\n",
       "\n",
       "    .dataframe tbody tr th {\n",
       "        vertical-align: top;\n",
       "    }\n",
       "\n",
       "    .dataframe thead th {\n",
       "        text-align: right;\n",
       "    }\n",
       "</style>\n",
       "<table border=\"1\" class=\"dataframe\">\n",
       "  <thead>\n",
       "    <tr style=\"text-align: right;\">\n",
       "      <th></th>\n",
       "      <th>sum_sq</th>\n",
       "      <th>df</th>\n",
       "      <th>F</th>\n",
       "      <th>PR(&gt;F)</th>\n",
       "    </tr>\n",
       "  </thead>\n",
       "  <tbody>\n",
       "    <tr>\n",
       "      <th>New_approved_wh_govt_cert</th>\n",
       "      <td>1.661289e+11</td>\n",
       "      <td>29.0</td>\n",
       "      <td>44.812245</td>\n",
       "      <td>1.177014e-247</td>\n",
       "    </tr>\n",
       "    <tr>\n",
       "      <th>Residual</th>\n",
       "      <td>2.827715e+12</td>\n",
       "      <td>22120.0</td>\n",
       "      <td>NaN</td>\n",
       "      <td>NaN</td>\n",
       "    </tr>\n",
       "  </tbody>\n",
       "</table>\n",
       "</div>"
      ],
      "text/plain": [
       "                                 sum_sq       df          F         PR(>F)\n",
       "New_approved_wh_govt_cert  1.661289e+11     29.0  44.812245  1.177014e-247\n",
       "Residual                   2.827715e+12  22120.0        NaN            NaN"
      ]
     },
     "execution_count": 23,
     "metadata": {},
     "output_type": "execute_result"
    }
   ],
   "source": [
    "Anova"
   ]
  },
  {
   "cell_type": "code",
   "execution_count": 24,
   "id": "a771b320",
   "metadata": {},
   "outputs": [],
   "source": [
    "# approved_wh_govt_certificate feature we can drop beacuse p_value less than Alpha value"
   ]
  },
  {
   "cell_type": "markdown",
   "id": "18fc430f",
   "metadata": {},
   "source": [
    "# Drop"
   ]
  },
  {
   "cell_type": "code",
   "execution_count": 25,
   "id": "42f1b114",
   "metadata": {},
   "outputs": [],
   "source": [
    "df1=df1.drop(['New_approved_wh_govt_cert'],axis=1)"
   ]
  },
  {
   "cell_type": "markdown",
   "id": "85c46aa3",
   "metadata": {},
   "source": [
    "# Location_type"
   ]
  },
  {
   "cell_type": "code",
   "execution_count": 26,
   "id": "d78ab82a",
   "metadata": {},
   "outputs": [],
   "source": [
    "df1['New_Location_type']=(df1['Location_type']+df1['zone']+df1['WH_regional_zone'])"
   ]
  },
  {
   "cell_type": "code",
   "execution_count": 27,
   "id": "7d7b92f8",
   "metadata": {},
   "outputs": [],
   "source": [
    "import statsmodels.api as sm\n",
    "from statsmodels.formula.api import ols\n",
    "\n",
    "new=ols('product_wg_ton ~ New_Location_type',data=df1).fit()\n",
    "Anova=sm.stats.anova_lm(new,typ=2)"
   ]
  },
  {
   "cell_type": "code",
   "execution_count": 28,
   "id": "46f57906",
   "metadata": {
    "scrolled": true
   },
   "outputs": [
    {
     "data": {
      "text/html": [
       "<div>\n",
       "<style scoped>\n",
       "    .dataframe tbody tr th:only-of-type {\n",
       "        vertical-align: middle;\n",
       "    }\n",
       "\n",
       "    .dataframe tbody tr th {\n",
       "        vertical-align: top;\n",
       "    }\n",
       "\n",
       "    .dataframe thead th {\n",
       "        text-align: right;\n",
       "    }\n",
       "</style>\n",
       "<table border=\"1\" class=\"dataframe\">\n",
       "  <thead>\n",
       "    <tr style=\"text-align: right;\">\n",
       "      <th></th>\n",
       "      <th>sum_sq</th>\n",
       "      <th>df</th>\n",
       "      <th>F</th>\n",
       "      <th>PR(&gt;F)</th>\n",
       "    </tr>\n",
       "  </thead>\n",
       "  <tbody>\n",
       "    <tr>\n",
       "      <th>New_Location_type</th>\n",
       "      <td>2.318918e+10</td>\n",
       "      <td>45.0</td>\n",
       "      <td>3.834348</td>\n",
       "      <td>9.573998e-17</td>\n",
       "    </tr>\n",
       "    <tr>\n",
       "      <th>Residual</th>\n",
       "      <td>2.970655e+12</td>\n",
       "      <td>22104.0</td>\n",
       "      <td>NaN</td>\n",
       "      <td>NaN</td>\n",
       "    </tr>\n",
       "  </tbody>\n",
       "</table>\n",
       "</div>"
      ],
      "text/plain": [
       "                         sum_sq       df         F        PR(>F)\n",
       "New_Location_type  2.318918e+10     45.0  3.834348  9.573998e-17\n",
       "Residual           2.970655e+12  22104.0       NaN           NaN"
      ]
     },
     "execution_count": 28,
     "metadata": {},
     "output_type": "execute_result"
    }
   ],
   "source": [
    "Anova"
   ]
  },
  {
   "cell_type": "markdown",
   "id": "8353e097",
   "metadata": {},
   "source": [
    "# Drop :\n",
    "    P Value less than the Alpha value.\n",
    "    \n",
    "    No need to create new column."
   ]
  },
  {
   "cell_type": "code",
   "execution_count": 29,
   "id": "a96dc099",
   "metadata": {},
   "outputs": [],
   "source": [
    "df1=df1.drop(['New_Location_type'],axis=1)"
   ]
  },
  {
   "cell_type": "markdown",
   "id": "1407b954",
   "metadata": {},
   "source": [
    "# wh_est_year"
   ]
  },
  {
   "cell_type": "code",
   "execution_count": 30,
   "id": "efca8258",
   "metadata": {},
   "outputs": [],
   "source": [
    "df1['New_wh_est_year']=(df1['wh_est_year']+df1['workers_num'])"
   ]
  },
  {
   "cell_type": "code",
   "execution_count": 31,
   "id": "b544f0ff",
   "metadata": {},
   "outputs": [
    {
     "name": "stdout",
     "output_type": "stream",
     "text": [
      "chi2_value:   3.4497e+05\n",
      "p_value: 1\n",
      "dof_value:  3.4952e+05\n"
     ]
    }
   ],
   "source": [
    "#Chi2_Square test:\n",
    "from scipy.stats import chi2_contingency\n",
    "hypothesis=pd.crosstab(df1['New_wh_est_year'],df1['product_wg_ton'])\n",
    "chi2_stat,p,dof,expected=chi2_contingency(hypothesis)\n",
    "print(f\"chi2_value:   {chi2_stat:0.5g}\")\n",
    "print(f\"p_value: {p:0.5g}\")\n",
    "print(f\"dof_value:  {dof:0.5g}\")"
   ]
  },
  {
   "cell_type": "code",
   "execution_count": 32,
   "id": "0693b4ff",
   "metadata": {},
   "outputs": [
    {
     "name": "stdout",
     "output_type": "stream",
     "text": [
      "z_value:  [1. 1. 1. ... 1. 1. 1.]\n",
      "p_Value:  0.9999999767161948\n"
     ]
    }
   ],
   "source": [
    "#two sample Z test:\n",
    "from statsmodels.stats.weightstats import ztest as ztest\n",
    "hyp=pd.crosstab(df1['New_wh_est_year'],df1['product_wg_ton'])\n",
    "z,pval=ztest(hyp)\n",
    "print(\"z_value: \",z)\n",
    "print(\"p_Value: \",p)"
   ]
  },
  {
   "cell_type": "markdown",
   "id": "da119df6",
   "metadata": {},
   "source": [
    "# Keep:\n",
    "    We can keep the feature because p value greater than Alpha value"
   ]
  },
  {
   "cell_type": "markdown",
   "id": "571eacc4",
   "metadata": {},
   "source": [
    "# storage_issue_reported_l3m"
   ]
  },
  {
   "cell_type": "code",
   "execution_count": 33,
   "id": "f709439f",
   "metadata": {},
   "outputs": [],
   "source": [
    "df1['New_Storage_issues']=(df1['storage_issue_reported_l3m']+df1['num_refill_req_l3m'])"
   ]
  },
  {
   "cell_type": "code",
   "execution_count": 34,
   "id": "420fc300",
   "metadata": {},
   "outputs": [
    {
     "name": "stdout",
     "output_type": "stream",
     "text": [
      "chi2_value:   3.6794e+05\n",
      "p_value: 0\n",
      "dof_value:  2.1061e+05\n"
     ]
    }
   ],
   "source": [
    "#Chi2_Square test:\n",
    "from scipy.stats import chi2_contingency\n",
    "hypothesis=pd.crosstab(df1['New_Storage_issues'],df1['product_wg_ton'])\n",
    "chi2_stat,p,dof,expected=chi2_contingency(hypothesis)\n",
    "print(f\"chi2_value:   {chi2_stat:0.5g}\")\n",
    "print(f\"p_value: {p:0.5g}\")\n",
    "print(f\"dof_value:  {dof:0.5g}\")"
   ]
  },
  {
   "cell_type": "code",
   "execution_count": 35,
   "id": "1f180abe",
   "metadata": {},
   "outputs": [
    {
     "name": "stdout",
     "output_type": "stream",
     "text": [
      "z_value:  [1. 1. 1. ... 1. 1. 1.]\n",
      "p_Value:  0.0\n"
     ]
    }
   ],
   "source": [
    "#two sample Z test:\n",
    "from statsmodels.stats.weightstats import ztest as ztest\n",
    "hyp=pd.crosstab(df1['New_Storage_issues'],df1['product_wg_ton'])\n",
    "z,pval=ztest(hyp)\n",
    "print(\"z_value: \",z)\n",
    "print(\"p_Value: \",p)"
   ]
  },
  {
   "cell_type": "markdown",
   "id": "4a9ffb00",
   "metadata": {},
   "source": [
    "# Drop:\n",
    "    p value less than Alpha Value. \n",
    "    \n",
    "    NO use of creating new column."
   ]
  },
  {
   "cell_type": "code",
   "execution_count": 36,
   "id": "49e0fe59",
   "metadata": {},
   "outputs": [],
   "source": [
    "df1=df1.drop(['New_Storage_issues'],axis=1)"
   ]
  },
  {
   "cell_type": "markdown",
   "id": "f1edd1cd",
   "metadata": {},
   "source": [
    "# wh_breakdown_l3m"
   ]
  },
  {
   "cell_type": "code",
   "execution_count": 37,
   "id": "09a62a2e",
   "metadata": {},
   "outputs": [],
   "source": [
    "df1['New_Wh_breakdown']=(df1['wh_breakdown_l3m']+df1['govt_check_l3m'])"
   ]
  },
  {
   "cell_type": "code",
   "execution_count": 38,
   "id": "558c30ec",
   "metadata": {},
   "outputs": [
    {
     "name": "stdout",
     "output_type": "stream",
     "text": [
      "chi2_value:   1.6637e+05\n",
      "p_value: 0.15969\n",
      "dof_value:  1.658e+05\n"
     ]
    }
   ],
   "source": [
    "#Chi2_Square test:\n",
    "from scipy.stats import chi2_contingency\n",
    "hypothesis=pd.crosstab(df1['New_Wh_breakdown'],df1['product_wg_ton'])\n",
    "chi2_stat,p,dof,expected=chi2_contingency(hypothesis)\n",
    "print(f\"chi2_value:   {chi2_stat:0.5g}\")\n",
    "print(f\"p_value: {p:0.5g}\")\n",
    "print(f\"dof_value:  {dof:0.5g}\")"
   ]
  },
  {
   "cell_type": "code",
   "execution_count": 39,
   "id": "12806000",
   "metadata": {},
   "outputs": [
    {
     "name": "stdout",
     "output_type": "stream",
     "text": [
      "z_value:  [1. 1. 1. ... 1. 1. 1.]\n",
      "p_Value:  0.15969200302684997\n"
     ]
    }
   ],
   "source": [
    "#two sample Z test:\n",
    "from statsmodels.stats.weightstats import ztest as ztest\n",
    "hyp=pd.crosstab(df1['New_Wh_breakdown'],df1['product_wg_ton'])\n",
    "z,pval=ztest(hyp)\n",
    "print(\"z_value: \",z)\n",
    "print(\"p_Value: \",p)"
   ]
  },
  {
   "cell_type": "markdown",
   "id": "b8007f25",
   "metadata": {},
   "source": [
    "# keep:\n",
    "We can keep the feature because p value greater than Alpha value"
   ]
  },
  {
   "cell_type": "code",
   "execution_count": 40,
   "id": "6016078f",
   "metadata": {},
   "outputs": [
    {
     "data": {
      "text/plain": [
       "(22150, 26)"
      ]
     },
     "execution_count": 40,
     "metadata": {},
     "output_type": "execute_result"
    }
   ],
   "source": [
    "df1.shape"
   ]
  },
  {
   "cell_type": "markdown",
   "id": "60ec254f",
   "metadata": {},
   "source": [
    "# 3. Data Preparation\n",
    "Data Preparation Let's now prepare the data and build the model."
   ]
  },
  {
   "cell_type": "code",
   "execution_count": 41,
   "id": "52738112",
   "metadata": {
    "scrolled": true
   },
   "outputs": [
    {
     "data": {
      "text/plain": [
       "Index(['Ware_house_ID', 'WH_Manager_ID', 'Location_type', 'WH_capacity_size',\n",
       "       'zone', 'WH_regional_zone', 'wh_owner_type',\n",
       "       'approved_wh_govt_certificate'],\n",
       "      dtype='object')"
      ]
     },
     "execution_count": 41,
     "metadata": {},
     "output_type": "execute_result"
    }
   ],
   "source": [
    "df1.select_dtypes(include = ['object']).columns"
   ]
  },
  {
   "cell_type": "code",
   "execution_count": 42,
   "id": "139c2b31",
   "metadata": {},
   "outputs": [
    {
     "data": {
      "text/plain": [
       "Index(['num_refill_req_l3m', 'transport_issue_l1y', 'Competitor_in_mkt',\n",
       "       'retail_shop_num', 'distributor_num', 'flood_impacted', 'flood_proof',\n",
       "       'electric_supply', 'dist_from_hub', 'workers_num', 'wh_est_year',\n",
       "       'storage_issue_reported_l3m', 'temp_reg_mach', 'wh_breakdown_l3m',\n",
       "       'govt_check_l3m', 'product_wg_ton', 'New_wh_est_year',\n",
       "       'New_Wh_breakdown'],\n",
       "      dtype='object')"
      ]
     },
     "execution_count": 42,
     "metadata": {},
     "output_type": "execute_result"
    }
   ],
   "source": [
    "df1.select_dtypes(include = ['int64','float']).columns"
   ]
  },
  {
   "cell_type": "code",
   "execution_count": 43,
   "id": "baf9697e",
   "metadata": {},
   "outputs": [],
   "source": [
    "new_df1 = pd.get_dummies(df1,columns = ['Location_type', 'WH_capacity_size',\n",
    "       'zone', 'WH_regional_zone', 'wh_owner_type',\n",
    "       'approved_wh_govt_certificate'], drop_first = True)"
   ]
  },
  {
   "cell_type": "code",
   "execution_count": 44,
   "id": "ea162daf",
   "metadata": {},
   "outputs": [],
   "source": [
    "new_df1.drop(['Ware_house_ID','WH_Manager_ID'],axis=1,inplace=True)"
   ]
  },
  {
   "cell_type": "code",
   "execution_count": 45,
   "id": "7bfe9bc8",
   "metadata": {},
   "outputs": [
    {
     "data": {
      "text/html": [
       "<div>\n",
       "<style scoped>\n",
       "    .dataframe tbody tr th:only-of-type {\n",
       "        vertical-align: middle;\n",
       "    }\n",
       "\n",
       "    .dataframe tbody tr th {\n",
       "        vertical-align: top;\n",
       "    }\n",
       "\n",
       "    .dataframe thead th {\n",
       "        text-align: right;\n",
       "    }\n",
       "</style>\n",
       "<table border=\"1\" class=\"dataframe\">\n",
       "  <thead>\n",
       "    <tr style=\"text-align: right;\">\n",
       "      <th></th>\n",
       "      <th>num_refill_req_l3m</th>\n",
       "      <th>transport_issue_l1y</th>\n",
       "      <th>Competitor_in_mkt</th>\n",
       "      <th>retail_shop_num</th>\n",
       "      <th>distributor_num</th>\n",
       "      <th>flood_impacted</th>\n",
       "      <th>flood_proof</th>\n",
       "      <th>electric_supply</th>\n",
       "      <th>dist_from_hub</th>\n",
       "      <th>workers_num</th>\n",
       "      <th>...</th>\n",
       "      <th>WH_regional_zone_Zone 2</th>\n",
       "      <th>WH_regional_zone_Zone 3</th>\n",
       "      <th>WH_regional_zone_Zone 4</th>\n",
       "      <th>WH_regional_zone_Zone 5</th>\n",
       "      <th>WH_regional_zone_Zone 6</th>\n",
       "      <th>wh_owner_type_Rented</th>\n",
       "      <th>approved_wh_govt_certificate_A+</th>\n",
       "      <th>approved_wh_govt_certificate_B</th>\n",
       "      <th>approved_wh_govt_certificate_B+</th>\n",
       "      <th>approved_wh_govt_certificate_C</th>\n",
       "    </tr>\n",
       "  </thead>\n",
       "  <tbody>\n",
       "    <tr>\n",
       "      <th>0</th>\n",
       "      <td>3</td>\n",
       "      <td>1.0</td>\n",
       "      <td>2.0</td>\n",
       "      <td>4651.0</td>\n",
       "      <td>24.0</td>\n",
       "      <td>0.0</td>\n",
       "      <td>0.0</td>\n",
       "      <td>1</td>\n",
       "      <td>91</td>\n",
       "      <td>29.0</td>\n",
       "      <td>...</td>\n",
       "      <td>0</td>\n",
       "      <td>0</td>\n",
       "      <td>0</td>\n",
       "      <td>0</td>\n",
       "      <td>1</td>\n",
       "      <td>1</td>\n",
       "      <td>0</td>\n",
       "      <td>0</td>\n",
       "      <td>0</td>\n",
       "      <td>0</td>\n",
       "    </tr>\n",
       "    <tr>\n",
       "      <th>1</th>\n",
       "      <td>0</td>\n",
       "      <td>0.0</td>\n",
       "      <td>4.0</td>\n",
       "      <td>6217.0</td>\n",
       "      <td>47.0</td>\n",
       "      <td>0.0</td>\n",
       "      <td>0.0</td>\n",
       "      <td>1</td>\n",
       "      <td>210</td>\n",
       "      <td>31.0</td>\n",
       "      <td>...</td>\n",
       "      <td>0</td>\n",
       "      <td>0</td>\n",
       "      <td>0</td>\n",
       "      <td>1</td>\n",
       "      <td>0</td>\n",
       "      <td>0</td>\n",
       "      <td>0</td>\n",
       "      <td>0</td>\n",
       "      <td>0</td>\n",
       "      <td>0</td>\n",
       "    </tr>\n",
       "    <tr>\n",
       "      <th>2</th>\n",
       "      <td>1</td>\n",
       "      <td>0.0</td>\n",
       "      <td>4.0</td>\n",
       "      <td>4306.0</td>\n",
       "      <td>64.0</td>\n",
       "      <td>0.0</td>\n",
       "      <td>0.0</td>\n",
       "      <td>0</td>\n",
       "      <td>161</td>\n",
       "      <td>37.0</td>\n",
       "      <td>...</td>\n",
       "      <td>1</td>\n",
       "      <td>0</td>\n",
       "      <td>0</td>\n",
       "      <td>0</td>\n",
       "      <td>0</td>\n",
       "      <td>0</td>\n",
       "      <td>0</td>\n",
       "      <td>0</td>\n",
       "      <td>0</td>\n",
       "      <td>0</td>\n",
       "    </tr>\n",
       "    <tr>\n",
       "      <th>3</th>\n",
       "      <td>7</td>\n",
       "      <td>2.5</td>\n",
       "      <td>2.0</td>\n",
       "      <td>6000.0</td>\n",
       "      <td>50.0</td>\n",
       "      <td>0.0</td>\n",
       "      <td>0.0</td>\n",
       "      <td>0</td>\n",
       "      <td>103</td>\n",
       "      <td>21.0</td>\n",
       "      <td>...</td>\n",
       "      <td>0</td>\n",
       "      <td>1</td>\n",
       "      <td>0</td>\n",
       "      <td>0</td>\n",
       "      <td>0</td>\n",
       "      <td>1</td>\n",
       "      <td>1</td>\n",
       "      <td>0</td>\n",
       "      <td>0</td>\n",
       "      <td>0</td>\n",
       "    </tr>\n",
       "    <tr>\n",
       "      <th>4</th>\n",
       "      <td>3</td>\n",
       "      <td>1.0</td>\n",
       "      <td>2.0</td>\n",
       "      <td>4740.0</td>\n",
       "      <td>42.0</td>\n",
       "      <td>0.0</td>\n",
       "      <td>0.0</td>\n",
       "      <td>1</td>\n",
       "      <td>112</td>\n",
       "      <td>25.0</td>\n",
       "      <td>...</td>\n",
       "      <td>0</td>\n",
       "      <td>0</td>\n",
       "      <td>0</td>\n",
       "      <td>1</td>\n",
       "      <td>0</td>\n",
       "      <td>0</td>\n",
       "      <td>0</td>\n",
       "      <td>0</td>\n",
       "      <td>0</td>\n",
       "      <td>1</td>\n",
       "    </tr>\n",
       "    <tr>\n",
       "      <th>5</th>\n",
       "      <td>8</td>\n",
       "      <td>0.0</td>\n",
       "      <td>2.0</td>\n",
       "      <td>5053.0</td>\n",
       "      <td>37.0</td>\n",
       "      <td>0.0</td>\n",
       "      <td>0.0</td>\n",
       "      <td>1</td>\n",
       "      <td>152</td>\n",
       "      <td>35.0</td>\n",
       "      <td>...</td>\n",
       "      <td>0</td>\n",
       "      <td>0</td>\n",
       "      <td>0</td>\n",
       "      <td>0</td>\n",
       "      <td>0</td>\n",
       "      <td>1</td>\n",
       "      <td>1</td>\n",
       "      <td>0</td>\n",
       "      <td>0</td>\n",
       "      <td>0</td>\n",
       "    </tr>\n",
       "    <tr>\n",
       "      <th>6</th>\n",
       "      <td>8</td>\n",
       "      <td>0.0</td>\n",
       "      <td>4.0</td>\n",
       "      <td>4449.0</td>\n",
       "      <td>38.0</td>\n",
       "      <td>0.0</td>\n",
       "      <td>0.0</td>\n",
       "      <td>1</td>\n",
       "      <td>77</td>\n",
       "      <td>27.0</td>\n",
       "      <td>...</td>\n",
       "      <td>0</td>\n",
       "      <td>0</td>\n",
       "      <td>0</td>\n",
       "      <td>0</td>\n",
       "      <td>1</td>\n",
       "      <td>0</td>\n",
       "      <td>0</td>\n",
       "      <td>1</td>\n",
       "      <td>0</td>\n",
       "      <td>0</td>\n",
       "    </tr>\n",
       "    <tr>\n",
       "      <th>7</th>\n",
       "      <td>1</td>\n",
       "      <td>0.0</td>\n",
       "      <td>4.0</td>\n",
       "      <td>7183.0</td>\n",
       "      <td>45.0</td>\n",
       "      <td>0.0</td>\n",
       "      <td>0.0</td>\n",
       "      <td>0</td>\n",
       "      <td>241</td>\n",
       "      <td>23.0</td>\n",
       "      <td>...</td>\n",
       "      <td>0</td>\n",
       "      <td>0</td>\n",
       "      <td>0</td>\n",
       "      <td>1</td>\n",
       "      <td>0</td>\n",
       "      <td>1</td>\n",
       "      <td>0</td>\n",
       "      <td>0</td>\n",
       "      <td>0</td>\n",
       "      <td>1</td>\n",
       "    </tr>\n",
       "    <tr>\n",
       "      <th>8</th>\n",
       "      <td>8</td>\n",
       "      <td>1.0</td>\n",
       "      <td>4.0</td>\n",
       "      <td>5381.0</td>\n",
       "      <td>42.0</td>\n",
       "      <td>0.0</td>\n",
       "      <td>0.0</td>\n",
       "      <td>1</td>\n",
       "      <td>124</td>\n",
       "      <td>22.0</td>\n",
       "      <td>...</td>\n",
       "      <td>0</td>\n",
       "      <td>0</td>\n",
       "      <td>0</td>\n",
       "      <td>0</td>\n",
       "      <td>1</td>\n",
       "      <td>1</td>\n",
       "      <td>1</td>\n",
       "      <td>0</td>\n",
       "      <td>0</td>\n",
       "      <td>0</td>\n",
       "    </tr>\n",
       "    <tr>\n",
       "      <th>9</th>\n",
       "      <td>4</td>\n",
       "      <td>2.5</td>\n",
       "      <td>3.0</td>\n",
       "      <td>3869.0</td>\n",
       "      <td>35.0</td>\n",
       "      <td>0.0</td>\n",
       "      <td>0.0</td>\n",
       "      <td>0</td>\n",
       "      <td>78</td>\n",
       "      <td>43.0</td>\n",
       "      <td>...</td>\n",
       "      <td>0</td>\n",
       "      <td>0</td>\n",
       "      <td>0</td>\n",
       "      <td>0</td>\n",
       "      <td>1</td>\n",
       "      <td>0</td>\n",
       "      <td>0</td>\n",
       "      <td>0</td>\n",
       "      <td>0</td>\n",
       "      <td>1</td>\n",
       "    </tr>\n",
       "  </tbody>\n",
       "</table>\n",
       "<p>10 rows × 34 columns</p>\n",
       "</div>"
      ],
      "text/plain": [
       "   num_refill_req_l3m  transport_issue_l1y  Competitor_in_mkt  \\\n",
       "0                   3                  1.0                2.0   \n",
       "1                   0                  0.0                4.0   \n",
       "2                   1                  0.0                4.0   \n",
       "3                   7                  2.5                2.0   \n",
       "4                   3                  1.0                2.0   \n",
       "5                   8                  0.0                2.0   \n",
       "6                   8                  0.0                4.0   \n",
       "7                   1                  0.0                4.0   \n",
       "8                   8                  1.0                4.0   \n",
       "9                   4                  2.5                3.0   \n",
       "\n",
       "   retail_shop_num  distributor_num  flood_impacted  flood_proof  \\\n",
       "0           4651.0             24.0             0.0          0.0   \n",
       "1           6217.0             47.0             0.0          0.0   \n",
       "2           4306.0             64.0             0.0          0.0   \n",
       "3           6000.0             50.0             0.0          0.0   \n",
       "4           4740.0             42.0             0.0          0.0   \n",
       "5           5053.0             37.0             0.0          0.0   \n",
       "6           4449.0             38.0             0.0          0.0   \n",
       "7           7183.0             45.0             0.0          0.0   \n",
       "8           5381.0             42.0             0.0          0.0   \n",
       "9           3869.0             35.0             0.0          0.0   \n",
       "\n",
       "   electric_supply  dist_from_hub  workers_num  ...  WH_regional_zone_Zone 2  \\\n",
       "0                1             91         29.0  ...                        0   \n",
       "1                1            210         31.0  ...                        0   \n",
       "2                0            161         37.0  ...                        1   \n",
       "3                0            103         21.0  ...                        0   \n",
       "4                1            112         25.0  ...                        0   \n",
       "5                1            152         35.0  ...                        0   \n",
       "6                1             77         27.0  ...                        0   \n",
       "7                0            241         23.0  ...                        0   \n",
       "8                1            124         22.0  ...                        0   \n",
       "9                0             78         43.0  ...                        0   \n",
       "\n",
       "   WH_regional_zone_Zone 3  WH_regional_zone_Zone 4  WH_regional_zone_Zone 5  \\\n",
       "0                        0                        0                        0   \n",
       "1                        0                        0                        1   \n",
       "2                        0                        0                        0   \n",
       "3                        1                        0                        0   \n",
       "4                        0                        0                        1   \n",
       "5                        0                        0                        0   \n",
       "6                        0                        0                        0   \n",
       "7                        0                        0                        1   \n",
       "8                        0                        0                        0   \n",
       "9                        0                        0                        0   \n",
       "\n",
       "   WH_regional_zone_Zone 6  wh_owner_type_Rented  \\\n",
       "0                        1                     1   \n",
       "1                        0                     0   \n",
       "2                        0                     0   \n",
       "3                        0                     1   \n",
       "4                        0                     0   \n",
       "5                        0                     1   \n",
       "6                        1                     0   \n",
       "7                        0                     1   \n",
       "8                        1                     1   \n",
       "9                        1                     0   \n",
       "\n",
       "   approved_wh_govt_certificate_A+  approved_wh_govt_certificate_B  \\\n",
       "0                                0                               0   \n",
       "1                                0                               0   \n",
       "2                                0                               0   \n",
       "3                                1                               0   \n",
       "4                                0                               0   \n",
       "5                                1                               0   \n",
       "6                                0                               1   \n",
       "7                                0                               0   \n",
       "8                                1                               0   \n",
       "9                                0                               0   \n",
       "\n",
       "   approved_wh_govt_certificate_B+  approved_wh_govt_certificate_C  \n",
       "0                                0                               0  \n",
       "1                                0                               0  \n",
       "2                                0                               0  \n",
       "3                                0                               0  \n",
       "4                                0                               1  \n",
       "5                                0                               0  \n",
       "6                                0                               0  \n",
       "7                                0                               1  \n",
       "8                                0                               0  \n",
       "9                                0                               1  \n",
       "\n",
       "[10 rows x 34 columns]"
      ]
     },
     "execution_count": 45,
     "metadata": {},
     "output_type": "execute_result"
    }
   ],
   "source": [
    "new_df1.head(10)"
   ]
  },
  {
   "cell_type": "code",
   "execution_count": 46,
   "id": "1066adfc",
   "metadata": {
    "scrolled": true
   },
   "outputs": [
    {
     "data": {
      "text/plain": [
       "Index(['num_refill_req_l3m', 'transport_issue_l1y', 'Competitor_in_mkt',\n",
       "       'retail_shop_num', 'distributor_num', 'flood_impacted', 'flood_proof',\n",
       "       'electric_supply', 'dist_from_hub', 'workers_num', 'wh_est_year',\n",
       "       'storage_issue_reported_l3m', 'temp_reg_mach', 'wh_breakdown_l3m',\n",
       "       'govt_check_l3m', 'product_wg_ton', 'New_wh_est_year',\n",
       "       'New_Wh_breakdown', 'Location_type_Urban', 'WH_capacity_size_Mid',\n",
       "       'WH_capacity_size_Small', 'zone_North', 'zone_South', 'zone_West',\n",
       "       'WH_regional_zone_Zone 2', 'WH_regional_zone_Zone 3',\n",
       "       'WH_regional_zone_Zone 4', 'WH_regional_zone_Zone 5',\n",
       "       'WH_regional_zone_Zone 6', 'wh_owner_type_Rented',\n",
       "       'approved_wh_govt_certificate_A+', 'approved_wh_govt_certificate_B',\n",
       "       'approved_wh_govt_certificate_B+', 'approved_wh_govt_certificate_C'],\n",
       "      dtype='object')"
      ]
     },
     "execution_count": 46,
     "metadata": {},
     "output_type": "execute_result"
    }
   ],
   "source": [
    "new_df1.columns"
   ]
  },
  {
   "cell_type": "code",
   "execution_count": 47,
   "id": "5fe26bda",
   "metadata": {},
   "outputs": [
    {
     "data": {
      "text/plain": [
       "(22150, 34)"
      ]
     },
     "execution_count": 47,
     "metadata": {},
     "output_type": "execute_result"
    }
   ],
   "source": [
    "new_df1.shape"
   ]
  },
  {
   "cell_type": "code",
   "execution_count": 48,
   "id": "0536ada1",
   "metadata": {},
   "outputs": [
    {
     "data": {
      "text/html": [
       "<div>\n",
       "<style scoped>\n",
       "    .dataframe tbody tr th:only-of-type {\n",
       "        vertical-align: middle;\n",
       "    }\n",
       "\n",
       "    .dataframe tbody tr th {\n",
       "        vertical-align: top;\n",
       "    }\n",
       "\n",
       "    .dataframe thead th {\n",
       "        text-align: right;\n",
       "    }\n",
       "</style>\n",
       "<table border=\"1\" class=\"dataframe\">\n",
       "  <thead>\n",
       "    <tr style=\"text-align: right;\">\n",
       "      <th></th>\n",
       "      <th>num_refill_req_l3m</th>\n",
       "      <th>transport_issue_l1y</th>\n",
       "      <th>Competitor_in_mkt</th>\n",
       "      <th>retail_shop_num</th>\n",
       "      <th>distributor_num</th>\n",
       "      <th>flood_impacted</th>\n",
       "      <th>flood_proof</th>\n",
       "      <th>electric_supply</th>\n",
       "      <th>dist_from_hub</th>\n",
       "      <th>workers_num</th>\n",
       "      <th>...</th>\n",
       "      <th>WH_regional_zone_Zone 2</th>\n",
       "      <th>WH_regional_zone_Zone 3</th>\n",
       "      <th>WH_regional_zone_Zone 4</th>\n",
       "      <th>WH_regional_zone_Zone 5</th>\n",
       "      <th>WH_regional_zone_Zone 6</th>\n",
       "      <th>wh_owner_type_Rented</th>\n",
       "      <th>approved_wh_govt_certificate_A+</th>\n",
       "      <th>approved_wh_govt_certificate_B</th>\n",
       "      <th>approved_wh_govt_certificate_B+</th>\n",
       "      <th>approved_wh_govt_certificate_C</th>\n",
       "    </tr>\n",
       "  </thead>\n",
       "  <tbody>\n",
       "    <tr>\n",
       "      <th>num_refill_req_l3m</th>\n",
       "      <td>1.000000</td>\n",
       "      <td>0.020805</td>\n",
       "      <td>0.006754</td>\n",
       "      <td>-0.003651</td>\n",
       "      <td>0.005063</td>\n",
       "      <td>NaN</td>\n",
       "      <td>NaN</td>\n",
       "      <td>-0.007217</td>\n",
       "      <td>-0.000611</td>\n",
       "      <td>-0.013520</td>\n",
       "      <td>...</td>\n",
       "      <td>0.003831</td>\n",
       "      <td>0.004905</td>\n",
       "      <td>0.001357</td>\n",
       "      <td>-0.004324</td>\n",
       "      <td>0.005417</td>\n",
       "      <td>0.009968</td>\n",
       "      <td>0.003808</td>\n",
       "      <td>0.002539</td>\n",
       "      <td>0.006154</td>\n",
       "      <td>-0.011536</td>\n",
       "    </tr>\n",
       "    <tr>\n",
       "      <th>transport_issue_l1y</th>\n",
       "      <td>0.020805</td>\n",
       "      <td>1.000000</td>\n",
       "      <td>-0.005877</td>\n",
       "      <td>0.001571</td>\n",
       "      <td>0.002638</td>\n",
       "      <td>NaN</td>\n",
       "      <td>NaN</td>\n",
       "      <td>-0.009535</td>\n",
       "      <td>0.012688</td>\n",
       "      <td>-0.007262</td>\n",
       "      <td>...</td>\n",
       "      <td>-0.014448</td>\n",
       "      <td>0.003676</td>\n",
       "      <td>0.007813</td>\n",
       "      <td>-0.002807</td>\n",
       "      <td>-0.001129</td>\n",
       "      <td>0.002650</td>\n",
       "      <td>-0.012566</td>\n",
       "      <td>-0.004935</td>\n",
       "      <td>0.014695</td>\n",
       "      <td>-0.003892</td>\n",
       "    </tr>\n",
       "    <tr>\n",
       "      <th>Competitor_in_mkt</th>\n",
       "      <td>0.006754</td>\n",
       "      <td>-0.005877</td>\n",
       "      <td>1.000000</td>\n",
       "      <td>-0.162411</td>\n",
       "      <td>0.000845</td>\n",
       "      <td>NaN</td>\n",
       "      <td>NaN</td>\n",
       "      <td>-0.000716</td>\n",
       "      <td>0.011009</td>\n",
       "      <td>-0.004350</td>\n",
       "      <td>...</td>\n",
       "      <td>-0.072800</td>\n",
       "      <td>0.019859</td>\n",
       "      <td>0.056721</td>\n",
       "      <td>-0.025948</td>\n",
       "      <td>0.016855</td>\n",
       "      <td>-0.004810</td>\n",
       "      <td>-0.000725</td>\n",
       "      <td>-0.002375</td>\n",
       "      <td>-0.005628</td>\n",
       "      <td>0.000437</td>\n",
       "    </tr>\n",
       "    <tr>\n",
       "      <th>retail_shop_num</th>\n",
       "      <td>-0.003651</td>\n",
       "      <td>0.001571</td>\n",
       "      <td>-0.162411</td>\n",
       "      <td>1.000000</td>\n",
       "      <td>-0.005080</td>\n",
       "      <td>NaN</td>\n",
       "      <td>NaN</td>\n",
       "      <td>-0.006970</td>\n",
       "      <td>0.002491</td>\n",
       "      <td>-0.007666</td>\n",
       "      <td>...</td>\n",
       "      <td>0.016668</td>\n",
       "      <td>-0.059608</td>\n",
       "      <td>0.019795</td>\n",
       "      <td>-0.031522</td>\n",
       "      <td>0.008851</td>\n",
       "      <td>0.004131</td>\n",
       "      <td>-0.005715</td>\n",
       "      <td>0.005931</td>\n",
       "      <td>0.004265</td>\n",
       "      <td>-0.004426</td>\n",
       "    </tr>\n",
       "    <tr>\n",
       "      <th>distributor_num</th>\n",
       "      <td>0.005063</td>\n",
       "      <td>0.002638</td>\n",
       "      <td>0.000845</td>\n",
       "      <td>-0.005080</td>\n",
       "      <td>1.000000</td>\n",
       "      <td>NaN</td>\n",
       "      <td>NaN</td>\n",
       "      <td>-0.000763</td>\n",
       "      <td>-0.007538</td>\n",
       "      <td>-0.011227</td>\n",
       "      <td>...</td>\n",
       "      <td>-0.001834</td>\n",
       "      <td>-0.000499</td>\n",
       "      <td>0.004285</td>\n",
       "      <td>0.003992</td>\n",
       "      <td>-0.005969</td>\n",
       "      <td>0.001674</td>\n",
       "      <td>0.006939</td>\n",
       "      <td>0.003043</td>\n",
       "      <td>-0.008558</td>\n",
       "      <td>-0.002887</td>\n",
       "    </tr>\n",
       "    <tr>\n",
       "      <th>flood_impacted</th>\n",
       "      <td>NaN</td>\n",
       "      <td>NaN</td>\n",
       "      <td>NaN</td>\n",
       "      <td>NaN</td>\n",
       "      <td>NaN</td>\n",
       "      <td>NaN</td>\n",
       "      <td>NaN</td>\n",
       "      <td>NaN</td>\n",
       "      <td>NaN</td>\n",
       "      <td>NaN</td>\n",
       "      <td>...</td>\n",
       "      <td>NaN</td>\n",
       "      <td>NaN</td>\n",
       "      <td>NaN</td>\n",
       "      <td>NaN</td>\n",
       "      <td>NaN</td>\n",
       "      <td>NaN</td>\n",
       "      <td>NaN</td>\n",
       "      <td>NaN</td>\n",
       "      <td>NaN</td>\n",
       "      <td>NaN</td>\n",
       "    </tr>\n",
       "    <tr>\n",
       "      <th>flood_proof</th>\n",
       "      <td>NaN</td>\n",
       "      <td>NaN</td>\n",
       "      <td>NaN</td>\n",
       "      <td>NaN</td>\n",
       "      <td>NaN</td>\n",
       "      <td>NaN</td>\n",
       "      <td>NaN</td>\n",
       "      <td>NaN</td>\n",
       "      <td>NaN</td>\n",
       "      <td>NaN</td>\n",
       "      <td>...</td>\n",
       "      <td>NaN</td>\n",
       "      <td>NaN</td>\n",
       "      <td>NaN</td>\n",
       "      <td>NaN</td>\n",
       "      <td>NaN</td>\n",
       "      <td>NaN</td>\n",
       "      <td>NaN</td>\n",
       "      <td>NaN</td>\n",
       "      <td>NaN</td>\n",
       "      <td>NaN</td>\n",
       "    </tr>\n",
       "    <tr>\n",
       "      <th>electric_supply</th>\n",
       "      <td>-0.007217</td>\n",
       "      <td>-0.009535</td>\n",
       "      <td>-0.000716</td>\n",
       "      <td>-0.006970</td>\n",
       "      <td>-0.000763</td>\n",
       "      <td>NaN</td>\n",
       "      <td>NaN</td>\n",
       "      <td>1.000000</td>\n",
       "      <td>-0.002138</td>\n",
       "      <td>0.356225</td>\n",
       "      <td>...</td>\n",
       "      <td>-0.011537</td>\n",
       "      <td>0.010330</td>\n",
       "      <td>-0.011384</td>\n",
       "      <td>0.005704</td>\n",
       "      <td>0.003592</td>\n",
       "      <td>-0.229568</td>\n",
       "      <td>-0.004161</td>\n",
       "      <td>-0.005487</td>\n",
       "      <td>0.007462</td>\n",
       "      <td>0.001091</td>\n",
       "    </tr>\n",
       "    <tr>\n",
       "      <th>dist_from_hub</th>\n",
       "      <td>-0.000611</td>\n",
       "      <td>0.012688</td>\n",
       "      <td>0.011009</td>\n",
       "      <td>0.002491</td>\n",
       "      <td>-0.007538</td>\n",
       "      <td>NaN</td>\n",
       "      <td>NaN</td>\n",
       "      <td>-0.002138</td>\n",
       "      <td>1.000000</td>\n",
       "      <td>-0.014410</td>\n",
       "      <td>...</td>\n",
       "      <td>-0.000212</td>\n",
       "      <td>-0.005417</td>\n",
       "      <td>0.010443</td>\n",
       "      <td>0.001431</td>\n",
       "      <td>-0.002658</td>\n",
       "      <td>-0.000290</td>\n",
       "      <td>0.003430</td>\n",
       "      <td>0.002448</td>\n",
       "      <td>-0.004036</td>\n",
       "      <td>-0.005478</td>\n",
       "    </tr>\n",
       "    <tr>\n",
       "      <th>workers_num</th>\n",
       "      <td>-0.013520</td>\n",
       "      <td>-0.007262</td>\n",
       "      <td>-0.004350</td>\n",
       "      <td>-0.007666</td>\n",
       "      <td>-0.011227</td>\n",
       "      <td>NaN</td>\n",
       "      <td>NaN</td>\n",
       "      <td>0.356225</td>\n",
       "      <td>-0.014410</td>\n",
       "      <td>1.000000</td>\n",
       "      <td>...</td>\n",
       "      <td>-0.014221</td>\n",
       "      <td>0.005443</td>\n",
       "      <td>-0.015656</td>\n",
       "      <td>0.003930</td>\n",
       "      <td>0.013365</td>\n",
       "      <td>-0.194270</td>\n",
       "      <td>-0.003276</td>\n",
       "      <td>0.000890</td>\n",
       "      <td>0.001588</td>\n",
       "      <td>0.007284</td>\n",
       "    </tr>\n",
       "    <tr>\n",
       "      <th>wh_est_year</th>\n",
       "      <td>0.102577</td>\n",
       "      <td>-0.058305</td>\n",
       "      <td>-0.006902</td>\n",
       "      <td>0.007535</td>\n",
       "      <td>-0.005658</td>\n",
       "      <td>NaN</td>\n",
       "      <td>NaN</td>\n",
       "      <td>-0.007007</td>\n",
       "      <td>0.007450</td>\n",
       "      <td>0.003265</td>\n",
       "      <td>...</td>\n",
       "      <td>-0.000889</td>\n",
       "      <td>0.004083</td>\n",
       "      <td>0.002533</td>\n",
       "      <td>-0.000076</td>\n",
       "      <td>-0.004863</td>\n",
       "      <td>-0.010802</td>\n",
       "      <td>-0.053291</td>\n",
       "      <td>-0.015468</td>\n",
       "      <td>-0.010162</td>\n",
       "      <td>0.094265</td>\n",
       "    </tr>\n",
       "    <tr>\n",
       "      <th>storage_issue_reported_l3m</th>\n",
       "      <td>-0.007719</td>\n",
       "      <td>-0.153067</td>\n",
       "      <td>0.007446</td>\n",
       "      <td>-0.007456</td>\n",
       "      <td>0.003314</td>\n",
       "      <td>NaN</td>\n",
       "      <td>NaN</td>\n",
       "      <td>-0.000821</td>\n",
       "      <td>-0.006531</td>\n",
       "      <td>-0.009073</td>\n",
       "      <td>...</td>\n",
       "      <td>0.009638</td>\n",
       "      <td>-0.003124</td>\n",
       "      <td>0.004751</td>\n",
       "      <td>-0.000928</td>\n",
       "      <td>-0.001665</td>\n",
       "      <td>0.003537</td>\n",
       "      <td>0.134637</td>\n",
       "      <td>0.027310</td>\n",
       "      <td>0.034313</td>\n",
       "      <td>-0.221701</td>\n",
       "    </tr>\n",
       "    <tr>\n",
       "      <th>temp_reg_mach</th>\n",
       "      <td>0.263539</td>\n",
       "      <td>0.010772</td>\n",
       "      <td>0.011590</td>\n",
       "      <td>-0.000572</td>\n",
       "      <td>0.004048</td>\n",
       "      <td>NaN</td>\n",
       "      <td>NaN</td>\n",
       "      <td>-0.006324</td>\n",
       "      <td>0.000175</td>\n",
       "      <td>-0.002201</td>\n",
       "      <td>...</td>\n",
       "      <td>0.009176</td>\n",
       "      <td>0.007587</td>\n",
       "      <td>-0.003934</td>\n",
       "      <td>0.011815</td>\n",
       "      <td>-0.014735</td>\n",
       "      <td>0.001188</td>\n",
       "      <td>0.448265</td>\n",
       "      <td>-0.103649</td>\n",
       "      <td>-0.113529</td>\n",
       "      <td>-0.093344</td>\n",
       "    </tr>\n",
       "    <tr>\n",
       "      <th>wh_breakdown_l3m</th>\n",
       "      <td>0.000704</td>\n",
       "      <td>0.013206</td>\n",
       "      <td>0.012806</td>\n",
       "      <td>-0.006008</td>\n",
       "      <td>0.001885</td>\n",
       "      <td>NaN</td>\n",
       "      <td>NaN</td>\n",
       "      <td>-0.012428</td>\n",
       "      <td>0.001300</td>\n",
       "      <td>-0.017832</td>\n",
       "      <td>...</td>\n",
       "      <td>-0.003267</td>\n",
       "      <td>0.006873</td>\n",
       "      <td>0.004887</td>\n",
       "      <td>0.006631</td>\n",
       "      <td>-0.011085</td>\n",
       "      <td>0.011479</td>\n",
       "      <td>0.092829</td>\n",
       "      <td>0.037601</td>\n",
       "      <td>0.033767</td>\n",
       "      <td>-0.195070</td>\n",
       "    </tr>\n",
       "    <tr>\n",
       "      <th>govt_check_l3m</th>\n",
       "      <td>-0.006470</td>\n",
       "      <td>0.008051</td>\n",
       "      <td>-0.044714</td>\n",
       "      <td>0.046754</td>\n",
       "      <td>-0.005996</td>\n",
       "      <td>NaN</td>\n",
       "      <td>NaN</td>\n",
       "      <td>-0.007258</td>\n",
       "      <td>0.002769</td>\n",
       "      <td>-0.006361</td>\n",
       "      <td>...</td>\n",
       "      <td>-0.043883</td>\n",
       "      <td>0.155470</td>\n",
       "      <td>0.151795</td>\n",
       "      <td>-0.125302</td>\n",
       "      <td>-0.118239</td>\n",
       "      <td>0.016891</td>\n",
       "      <td>-0.004823</td>\n",
       "      <td>0.017694</td>\n",
       "      <td>-0.004264</td>\n",
       "      <td>-0.002485</td>\n",
       "    </tr>\n",
       "    <tr>\n",
       "      <th>product_wg_ton</th>\n",
       "      <td>0.000676</td>\n",
       "      <td>-0.184538</td>\n",
       "      <td>0.007046</td>\n",
       "      <td>-0.007366</td>\n",
       "      <td>0.005143</td>\n",
       "      <td>NaN</td>\n",
       "      <td>NaN</td>\n",
       "      <td>-0.000725</td>\n",
       "      <td>-0.006040</td>\n",
       "      <td>-0.008325</td>\n",
       "      <td>...</td>\n",
       "      <td>0.011257</td>\n",
       "      <td>-0.003865</td>\n",
       "      <td>0.003775</td>\n",
       "      <td>-0.000830</td>\n",
       "      <td>-0.001689</td>\n",
       "      <td>0.003412</td>\n",
       "      <td>0.178228</td>\n",
       "      <td>-0.033444</td>\n",
       "      <td>-0.027907</td>\n",
       "      <td>-0.169939</td>\n",
       "    </tr>\n",
       "    <tr>\n",
       "      <th>New_wh_est_year</th>\n",
       "      <td>0.006388</td>\n",
       "      <td>-0.018292</td>\n",
       "      <td>-0.005589</td>\n",
       "      <td>-0.006076</td>\n",
       "      <td>-0.012096</td>\n",
       "      <td>NaN</td>\n",
       "      <td>NaN</td>\n",
       "      <td>0.348063</td>\n",
       "      <td>-0.012707</td>\n",
       "      <td>0.981481</td>\n",
       "      <td>...</td>\n",
       "      <td>-0.014119</td>\n",
       "      <td>0.006121</td>\n",
       "      <td>-0.014871</td>\n",
       "      <td>0.003840</td>\n",
       "      <td>0.012178</td>\n",
       "      <td>-0.192620</td>\n",
       "      <td>-0.013422</td>\n",
       "      <td>-0.002090</td>\n",
       "      <td>-0.000389</td>\n",
       "      <td>0.025202</td>\n",
       "    </tr>\n",
       "    <tr>\n",
       "      <th>New_Wh_breakdown</th>\n",
       "      <td>-0.006228</td>\n",
       "      <td>0.010460</td>\n",
       "      <td>-0.041511</td>\n",
       "      <td>0.044826</td>\n",
       "      <td>-0.005535</td>\n",
       "      <td>NaN</td>\n",
       "      <td>NaN</td>\n",
       "      <td>-0.009530</td>\n",
       "      <td>0.002973</td>\n",
       "      <td>-0.009688</td>\n",
       "      <td>...</td>\n",
       "      <td>-0.043788</td>\n",
       "      <td>0.154226</td>\n",
       "      <td>0.150230</td>\n",
       "      <td>-0.121958</td>\n",
       "      <td>-0.118421</td>\n",
       "      <td>0.018822</td>\n",
       "      <td>0.013122</td>\n",
       "      <td>0.024639</td>\n",
       "      <td>0.002305</td>\n",
       "      <td>-0.039987</td>\n",
       "    </tr>\n",
       "    <tr>\n",
       "      <th>Location_type_Urban</th>\n",
       "      <td>0.014890</td>\n",
       "      <td>0.012659</td>\n",
       "      <td>0.011055</td>\n",
       "      <td>-0.004159</td>\n",
       "      <td>-0.004784</td>\n",
       "      <td>NaN</td>\n",
       "      <td>NaN</td>\n",
       "      <td>-0.005345</td>\n",
       "      <td>-0.001036</td>\n",
       "      <td>0.000254</td>\n",
       "      <td>...</td>\n",
       "      <td>-0.005894</td>\n",
       "      <td>0.004005</td>\n",
       "      <td>0.011458</td>\n",
       "      <td>-0.004104</td>\n",
       "      <td>0.004633</td>\n",
       "      <td>-0.001088</td>\n",
       "      <td>0.024400</td>\n",
       "      <td>0.006258</td>\n",
       "      <td>-0.005508</td>\n",
       "      <td>-0.023150</td>\n",
       "    </tr>\n",
       "    <tr>\n",
       "      <th>WH_capacity_size_Mid</th>\n",
       "      <td>0.006760</td>\n",
       "      <td>-0.001208</td>\n",
       "      <td>0.007998</td>\n",
       "      <td>-0.012726</td>\n",
       "      <td>0.001726</td>\n",
       "      <td>NaN</td>\n",
       "      <td>NaN</td>\n",
       "      <td>-0.009568</td>\n",
       "      <td>0.004285</td>\n",
       "      <td>-0.017778</td>\n",
       "      <td>...</td>\n",
       "      <td>0.448943</td>\n",
       "      <td>0.440216</td>\n",
       "      <td>0.547012</td>\n",
       "      <td>-0.387462</td>\n",
       "      <td>-0.579202</td>\n",
       "      <td>-0.004100</td>\n",
       "      <td>0.006813</td>\n",
       "      <td>0.004040</td>\n",
       "      <td>-0.005947</td>\n",
       "      <td>-0.000916</td>\n",
       "    </tr>\n",
       "    <tr>\n",
       "      <th>WH_capacity_size_Small</th>\n",
       "      <td>-0.009005</td>\n",
       "      <td>0.009900</td>\n",
       "      <td>0.007913</td>\n",
       "      <td>0.072838</td>\n",
       "      <td>0.001792</td>\n",
       "      <td>NaN</td>\n",
       "      <td>NaN</td>\n",
       "      <td>-0.000960</td>\n",
       "      <td>-0.002912</td>\n",
       "      <td>0.010258</td>\n",
       "      <td>...</td>\n",
       "      <td>-0.180102</td>\n",
       "      <td>-0.176601</td>\n",
       "      <td>-0.219445</td>\n",
       "      <td>-0.231323</td>\n",
       "      <td>0.249355</td>\n",
       "      <td>-0.000574</td>\n",
       "      <td>0.003271</td>\n",
       "      <td>-0.001997</td>\n",
       "      <td>0.000018</td>\n",
       "      <td>0.006961</td>\n",
       "    </tr>\n",
       "    <tr>\n",
       "      <th>zone_North</th>\n",
       "      <td>-0.010916</td>\n",
       "      <td>0.009678</td>\n",
       "      <td>-0.088309</td>\n",
       "      <td>0.053551</td>\n",
       "      <td>-0.002554</td>\n",
       "      <td>NaN</td>\n",
       "      <td>NaN</td>\n",
       "      <td>0.005041</td>\n",
       "      <td>-0.004239</td>\n",
       "      <td>0.001283</td>\n",
       "      <td>...</td>\n",
       "      <td>-0.087737</td>\n",
       "      <td>-0.059490</td>\n",
       "      <td>-0.114646</td>\n",
       "      <td>0.006614</td>\n",
       "      <td>0.183708</td>\n",
       "      <td>0.006738</td>\n",
       "      <td>0.001846</td>\n",
       "      <td>-0.005559</td>\n",
       "      <td>-0.009539</td>\n",
       "      <td>0.010934</td>\n",
       "    </tr>\n",
       "    <tr>\n",
       "      <th>zone_South</th>\n",
       "      <td>0.000056</td>\n",
       "      <td>0.000574</td>\n",
       "      <td>-0.307092</td>\n",
       "      <td>0.017137</td>\n",
       "      <td>-0.004008</td>\n",
       "      <td>NaN</td>\n",
       "      <td>NaN</td>\n",
       "      <td>-0.001935</td>\n",
       "      <td>0.004174</td>\n",
       "      <td>-0.006181</td>\n",
       "      <td>...</td>\n",
       "      <td>0.193329</td>\n",
       "      <td>0.045018</td>\n",
       "      <td>-0.045465</td>\n",
       "      <td>-0.013059</td>\n",
       "      <td>-0.144974</td>\n",
       "      <td>-0.001744</td>\n",
       "      <td>0.005402</td>\n",
       "      <td>0.003736</td>\n",
       "      <td>0.004438</td>\n",
       "      <td>-0.003618</td>\n",
       "    </tr>\n",
       "    <tr>\n",
       "      <th>zone_West</th>\n",
       "      <td>0.011471</td>\n",
       "      <td>-0.010947</td>\n",
       "      <td>0.315109</td>\n",
       "      <td>-0.065831</td>\n",
       "      <td>0.008369</td>\n",
       "      <td>NaN</td>\n",
       "      <td>NaN</td>\n",
       "      <td>-0.002364</td>\n",
       "      <td>0.002049</td>\n",
       "      <td>0.002797</td>\n",
       "      <td>...</td>\n",
       "      <td>-0.074596</td>\n",
       "      <td>0.004298</td>\n",
       "      <td>0.147160</td>\n",
       "      <td>0.007180</td>\n",
       "      <td>-0.043452</td>\n",
       "      <td>-0.004811</td>\n",
       "      <td>-0.006880</td>\n",
       "      <td>0.000069</td>\n",
       "      <td>0.006534</td>\n",
       "      <td>-0.006895</td>\n",
       "    </tr>\n",
       "    <tr>\n",
       "      <th>WH_regional_zone_Zone 2</th>\n",
       "      <td>0.003831</td>\n",
       "      <td>-0.014448</td>\n",
       "      <td>-0.072800</td>\n",
       "      <td>0.016668</td>\n",
       "      <td>-0.001834</td>\n",
       "      <td>NaN</td>\n",
       "      <td>NaN</td>\n",
       "      <td>-0.011537</td>\n",
       "      <td>-0.000212</td>\n",
       "      <td>-0.014221</td>\n",
       "      <td>...</td>\n",
       "      <td>1.000000</td>\n",
       "      <td>-0.132799</td>\n",
       "      <td>-0.165016</td>\n",
       "      <td>-0.173948</td>\n",
       "      <td>-0.260029</td>\n",
       "      <td>0.007692</td>\n",
       "      <td>0.001168</td>\n",
       "      <td>-0.004660</td>\n",
       "      <td>-0.005061</td>\n",
       "      <td>0.003324</td>\n",
       "    </tr>\n",
       "    <tr>\n",
       "      <th>WH_regional_zone_Zone 3</th>\n",
       "      <td>0.004905</td>\n",
       "      <td>0.003676</td>\n",
       "      <td>0.019859</td>\n",
       "      <td>-0.059608</td>\n",
       "      <td>-0.000499</td>\n",
       "      <td>NaN</td>\n",
       "      <td>NaN</td>\n",
       "      <td>0.010330</td>\n",
       "      <td>-0.005417</td>\n",
       "      <td>0.005443</td>\n",
       "      <td>...</td>\n",
       "      <td>-0.132799</td>\n",
       "      <td>1.000000</td>\n",
       "      <td>-0.161808</td>\n",
       "      <td>-0.170567</td>\n",
       "      <td>-0.254974</td>\n",
       "      <td>-0.008628</td>\n",
       "      <td>0.015225</td>\n",
       "      <td>0.005431</td>\n",
       "      <td>-0.012790</td>\n",
       "      <td>-0.000186</td>\n",
       "    </tr>\n",
       "    <tr>\n",
       "      <th>WH_regional_zone_Zone 4</th>\n",
       "      <td>0.001357</td>\n",
       "      <td>0.007813</td>\n",
       "      <td>0.056721</td>\n",
       "      <td>0.019795</td>\n",
       "      <td>0.004285</td>\n",
       "      <td>NaN</td>\n",
       "      <td>NaN</td>\n",
       "      <td>-0.011384</td>\n",
       "      <td>0.010443</td>\n",
       "      <td>-0.015656</td>\n",
       "      <td>...</td>\n",
       "      <td>-0.165016</td>\n",
       "      <td>-0.161808</td>\n",
       "      <td>1.000000</td>\n",
       "      <td>-0.211946</td>\n",
       "      <td>-0.316831</td>\n",
       "      <td>-0.004684</td>\n",
       "      <td>-0.005087</td>\n",
       "      <td>0.004707</td>\n",
       "      <td>0.007522</td>\n",
       "      <td>-0.003930</td>\n",
       "    </tr>\n",
       "    <tr>\n",
       "      <th>WH_regional_zone_Zone 5</th>\n",
       "      <td>-0.004324</td>\n",
       "      <td>-0.002807</td>\n",
       "      <td>-0.025948</td>\n",
       "      <td>-0.031522</td>\n",
       "      <td>0.003992</td>\n",
       "      <td>NaN</td>\n",
       "      <td>NaN</td>\n",
       "      <td>0.005704</td>\n",
       "      <td>0.001431</td>\n",
       "      <td>0.003930</td>\n",
       "      <td>...</td>\n",
       "      <td>-0.173948</td>\n",
       "      <td>-0.170567</td>\n",
       "      <td>-0.211946</td>\n",
       "      <td>1.000000</td>\n",
       "      <td>-0.333981</td>\n",
       "      <td>-0.002390</td>\n",
       "      <td>-0.001132</td>\n",
       "      <td>-0.012916</td>\n",
       "      <td>0.007049</td>\n",
       "      <td>0.002584</td>\n",
       "    </tr>\n",
       "    <tr>\n",
       "      <th>WH_regional_zone_Zone 6</th>\n",
       "      <td>0.005417</td>\n",
       "      <td>-0.001129</td>\n",
       "      <td>0.016855</td>\n",
       "      <td>0.008851</td>\n",
       "      <td>-0.005969</td>\n",
       "      <td>NaN</td>\n",
       "      <td>NaN</td>\n",
       "      <td>0.003592</td>\n",
       "      <td>-0.002658</td>\n",
       "      <td>0.013365</td>\n",
       "      <td>...</td>\n",
       "      <td>-0.260029</td>\n",
       "      <td>-0.254974</td>\n",
       "      <td>-0.316831</td>\n",
       "      <td>-0.333981</td>\n",
       "      <td>1.000000</td>\n",
       "      <td>0.009939</td>\n",
       "      <td>-0.001730</td>\n",
       "      <td>0.009329</td>\n",
       "      <td>0.000990</td>\n",
       "      <td>-0.003102</td>\n",
       "    </tr>\n",
       "    <tr>\n",
       "      <th>wh_owner_type_Rented</th>\n",
       "      <td>0.009968</td>\n",
       "      <td>0.002650</td>\n",
       "      <td>-0.004810</td>\n",
       "      <td>0.004131</td>\n",
       "      <td>0.001674</td>\n",
       "      <td>NaN</td>\n",
       "      <td>NaN</td>\n",
       "      <td>-0.229568</td>\n",
       "      <td>-0.000290</td>\n",
       "      <td>-0.194270</td>\n",
       "      <td>...</td>\n",
       "      <td>0.007692</td>\n",
       "      <td>-0.008628</td>\n",
       "      <td>-0.004684</td>\n",
       "      <td>-0.002390</td>\n",
       "      <td>0.009939</td>\n",
       "      <td>1.000000</td>\n",
       "      <td>0.001454</td>\n",
       "      <td>-0.001488</td>\n",
       "      <td>0.009098</td>\n",
       "      <td>-0.004886</td>\n",
       "    </tr>\n",
       "    <tr>\n",
       "      <th>approved_wh_govt_certificate_A+</th>\n",
       "      <td>0.003808</td>\n",
       "      <td>-0.012566</td>\n",
       "      <td>-0.000725</td>\n",
       "      <td>-0.005715</td>\n",
       "      <td>0.006939</td>\n",
       "      <td>NaN</td>\n",
       "      <td>NaN</td>\n",
       "      <td>-0.004161</td>\n",
       "      <td>0.003430</td>\n",
       "      <td>-0.003276</td>\n",
       "      <td>...</td>\n",
       "      <td>0.001168</td>\n",
       "      <td>0.015225</td>\n",
       "      <td>-0.005087</td>\n",
       "      <td>-0.001132</td>\n",
       "      <td>-0.001730</td>\n",
       "      <td>0.001454</td>\n",
       "      <td>1.000000</td>\n",
       "      <td>-0.220159</td>\n",
       "      <td>-0.221819</td>\n",
       "      <td>-0.264103</td>\n",
       "    </tr>\n",
       "    <tr>\n",
       "      <th>approved_wh_govt_certificate_B</th>\n",
       "      <td>0.002539</td>\n",
       "      <td>-0.004935</td>\n",
       "      <td>-0.002375</td>\n",
       "      <td>0.005931</td>\n",
       "      <td>0.003043</td>\n",
       "      <td>NaN</td>\n",
       "      <td>NaN</td>\n",
       "      <td>-0.005487</td>\n",
       "      <td>0.002448</td>\n",
       "      <td>0.000890</td>\n",
       "      <td>...</td>\n",
       "      <td>-0.004660</td>\n",
       "      <td>0.005431</td>\n",
       "      <td>0.004707</td>\n",
       "      <td>-0.012916</td>\n",
       "      <td>0.009329</td>\n",
       "      <td>-0.001488</td>\n",
       "      <td>-0.220159</td>\n",
       "      <td>1.000000</td>\n",
       "      <td>-0.240545</td>\n",
       "      <td>-0.286399</td>\n",
       "    </tr>\n",
       "    <tr>\n",
       "      <th>approved_wh_govt_certificate_B+</th>\n",
       "      <td>0.006154</td>\n",
       "      <td>0.014695</td>\n",
       "      <td>-0.005628</td>\n",
       "      <td>0.004265</td>\n",
       "      <td>-0.008558</td>\n",
       "      <td>NaN</td>\n",
       "      <td>NaN</td>\n",
       "      <td>0.007462</td>\n",
       "      <td>-0.004036</td>\n",
       "      <td>0.001588</td>\n",
       "      <td>...</td>\n",
       "      <td>-0.005061</td>\n",
       "      <td>-0.012790</td>\n",
       "      <td>0.007522</td>\n",
       "      <td>0.007049</td>\n",
       "      <td>0.000990</td>\n",
       "      <td>0.009098</td>\n",
       "      <td>-0.221819</td>\n",
       "      <td>-0.240545</td>\n",
       "      <td>1.000000</td>\n",
       "      <td>-0.288558</td>\n",
       "    </tr>\n",
       "    <tr>\n",
       "      <th>approved_wh_govt_certificate_C</th>\n",
       "      <td>-0.011536</td>\n",
       "      <td>-0.003892</td>\n",
       "      <td>0.000437</td>\n",
       "      <td>-0.004426</td>\n",
       "      <td>-0.002887</td>\n",
       "      <td>NaN</td>\n",
       "      <td>NaN</td>\n",
       "      <td>0.001091</td>\n",
       "      <td>-0.005478</td>\n",
       "      <td>0.007284</td>\n",
       "      <td>...</td>\n",
       "      <td>0.003324</td>\n",
       "      <td>-0.000186</td>\n",
       "      <td>-0.003930</td>\n",
       "      <td>0.002584</td>\n",
       "      <td>-0.003102</td>\n",
       "      <td>-0.004886</td>\n",
       "      <td>-0.264103</td>\n",
       "      <td>-0.286399</td>\n",
       "      <td>-0.288558</td>\n",
       "      <td>1.000000</td>\n",
       "    </tr>\n",
       "  </tbody>\n",
       "</table>\n",
       "<p>34 rows × 34 columns</p>\n",
       "</div>"
      ],
      "text/plain": [
       "                                 num_refill_req_l3m  transport_issue_l1y  \\\n",
       "num_refill_req_l3m                         1.000000             0.020805   \n",
       "transport_issue_l1y                        0.020805             1.000000   \n",
       "Competitor_in_mkt                          0.006754            -0.005877   \n",
       "retail_shop_num                           -0.003651             0.001571   \n",
       "distributor_num                            0.005063             0.002638   \n",
       "flood_impacted                                  NaN                  NaN   \n",
       "flood_proof                                     NaN                  NaN   \n",
       "electric_supply                           -0.007217            -0.009535   \n",
       "dist_from_hub                             -0.000611             0.012688   \n",
       "workers_num                               -0.013520            -0.007262   \n",
       "wh_est_year                                0.102577            -0.058305   \n",
       "storage_issue_reported_l3m                -0.007719            -0.153067   \n",
       "temp_reg_mach                              0.263539             0.010772   \n",
       "wh_breakdown_l3m                           0.000704             0.013206   \n",
       "govt_check_l3m                            -0.006470             0.008051   \n",
       "product_wg_ton                             0.000676            -0.184538   \n",
       "New_wh_est_year                            0.006388            -0.018292   \n",
       "New_Wh_breakdown                          -0.006228             0.010460   \n",
       "Location_type_Urban                        0.014890             0.012659   \n",
       "WH_capacity_size_Mid                       0.006760            -0.001208   \n",
       "WH_capacity_size_Small                    -0.009005             0.009900   \n",
       "zone_North                                -0.010916             0.009678   \n",
       "zone_South                                 0.000056             0.000574   \n",
       "zone_West                                  0.011471            -0.010947   \n",
       "WH_regional_zone_Zone 2                    0.003831            -0.014448   \n",
       "WH_regional_zone_Zone 3                    0.004905             0.003676   \n",
       "WH_regional_zone_Zone 4                    0.001357             0.007813   \n",
       "WH_regional_zone_Zone 5                   -0.004324            -0.002807   \n",
       "WH_regional_zone_Zone 6                    0.005417            -0.001129   \n",
       "wh_owner_type_Rented                       0.009968             0.002650   \n",
       "approved_wh_govt_certificate_A+            0.003808            -0.012566   \n",
       "approved_wh_govt_certificate_B             0.002539            -0.004935   \n",
       "approved_wh_govt_certificate_B+            0.006154             0.014695   \n",
       "approved_wh_govt_certificate_C            -0.011536            -0.003892   \n",
       "\n",
       "                                 Competitor_in_mkt  retail_shop_num  \\\n",
       "num_refill_req_l3m                        0.006754        -0.003651   \n",
       "transport_issue_l1y                      -0.005877         0.001571   \n",
       "Competitor_in_mkt                         1.000000        -0.162411   \n",
       "retail_shop_num                          -0.162411         1.000000   \n",
       "distributor_num                           0.000845        -0.005080   \n",
       "flood_impacted                                 NaN              NaN   \n",
       "flood_proof                                    NaN              NaN   \n",
       "electric_supply                          -0.000716        -0.006970   \n",
       "dist_from_hub                             0.011009         0.002491   \n",
       "workers_num                              -0.004350        -0.007666   \n",
       "wh_est_year                              -0.006902         0.007535   \n",
       "storage_issue_reported_l3m                0.007446        -0.007456   \n",
       "temp_reg_mach                             0.011590        -0.000572   \n",
       "wh_breakdown_l3m                          0.012806        -0.006008   \n",
       "govt_check_l3m                           -0.044714         0.046754   \n",
       "product_wg_ton                            0.007046        -0.007366   \n",
       "New_wh_est_year                          -0.005589        -0.006076   \n",
       "New_Wh_breakdown                         -0.041511         0.044826   \n",
       "Location_type_Urban                       0.011055        -0.004159   \n",
       "WH_capacity_size_Mid                      0.007998        -0.012726   \n",
       "WH_capacity_size_Small                    0.007913         0.072838   \n",
       "zone_North                               -0.088309         0.053551   \n",
       "zone_South                               -0.307092         0.017137   \n",
       "zone_West                                 0.315109        -0.065831   \n",
       "WH_regional_zone_Zone 2                  -0.072800         0.016668   \n",
       "WH_regional_zone_Zone 3                   0.019859        -0.059608   \n",
       "WH_regional_zone_Zone 4                   0.056721         0.019795   \n",
       "WH_regional_zone_Zone 5                  -0.025948        -0.031522   \n",
       "WH_regional_zone_Zone 6                   0.016855         0.008851   \n",
       "wh_owner_type_Rented                     -0.004810         0.004131   \n",
       "approved_wh_govt_certificate_A+          -0.000725        -0.005715   \n",
       "approved_wh_govt_certificate_B           -0.002375         0.005931   \n",
       "approved_wh_govt_certificate_B+          -0.005628         0.004265   \n",
       "approved_wh_govt_certificate_C            0.000437        -0.004426   \n",
       "\n",
       "                                 distributor_num  flood_impacted  flood_proof  \\\n",
       "num_refill_req_l3m                      0.005063             NaN          NaN   \n",
       "transport_issue_l1y                     0.002638             NaN          NaN   \n",
       "Competitor_in_mkt                       0.000845             NaN          NaN   \n",
       "retail_shop_num                        -0.005080             NaN          NaN   \n",
       "distributor_num                         1.000000             NaN          NaN   \n",
       "flood_impacted                               NaN             NaN          NaN   \n",
       "flood_proof                                  NaN             NaN          NaN   \n",
       "electric_supply                        -0.000763             NaN          NaN   \n",
       "dist_from_hub                          -0.007538             NaN          NaN   \n",
       "workers_num                            -0.011227             NaN          NaN   \n",
       "wh_est_year                            -0.005658             NaN          NaN   \n",
       "storage_issue_reported_l3m              0.003314             NaN          NaN   \n",
       "temp_reg_mach                           0.004048             NaN          NaN   \n",
       "wh_breakdown_l3m                        0.001885             NaN          NaN   \n",
       "govt_check_l3m                         -0.005996             NaN          NaN   \n",
       "product_wg_ton                          0.005143             NaN          NaN   \n",
       "New_wh_est_year                        -0.012096             NaN          NaN   \n",
       "New_Wh_breakdown                       -0.005535             NaN          NaN   \n",
       "Location_type_Urban                    -0.004784             NaN          NaN   \n",
       "WH_capacity_size_Mid                    0.001726             NaN          NaN   \n",
       "WH_capacity_size_Small                  0.001792             NaN          NaN   \n",
       "zone_North                             -0.002554             NaN          NaN   \n",
       "zone_South                             -0.004008             NaN          NaN   \n",
       "zone_West                               0.008369             NaN          NaN   \n",
       "WH_regional_zone_Zone 2                -0.001834             NaN          NaN   \n",
       "WH_regional_zone_Zone 3                -0.000499             NaN          NaN   \n",
       "WH_regional_zone_Zone 4                 0.004285             NaN          NaN   \n",
       "WH_regional_zone_Zone 5                 0.003992             NaN          NaN   \n",
       "WH_regional_zone_Zone 6                -0.005969             NaN          NaN   \n",
       "wh_owner_type_Rented                    0.001674             NaN          NaN   \n",
       "approved_wh_govt_certificate_A+         0.006939             NaN          NaN   \n",
       "approved_wh_govt_certificate_B          0.003043             NaN          NaN   \n",
       "approved_wh_govt_certificate_B+        -0.008558             NaN          NaN   \n",
       "approved_wh_govt_certificate_C         -0.002887             NaN          NaN   \n",
       "\n",
       "                                 electric_supply  dist_from_hub  workers_num  \\\n",
       "num_refill_req_l3m                     -0.007217      -0.000611    -0.013520   \n",
       "transport_issue_l1y                    -0.009535       0.012688    -0.007262   \n",
       "Competitor_in_mkt                      -0.000716       0.011009    -0.004350   \n",
       "retail_shop_num                        -0.006970       0.002491    -0.007666   \n",
       "distributor_num                        -0.000763      -0.007538    -0.011227   \n",
       "flood_impacted                               NaN            NaN          NaN   \n",
       "flood_proof                                  NaN            NaN          NaN   \n",
       "electric_supply                         1.000000      -0.002138     0.356225   \n",
       "dist_from_hub                          -0.002138       1.000000    -0.014410   \n",
       "workers_num                             0.356225      -0.014410     1.000000   \n",
       "wh_est_year                            -0.007007       0.007450     0.003265   \n",
       "storage_issue_reported_l3m             -0.000821      -0.006531    -0.009073   \n",
       "temp_reg_mach                          -0.006324       0.000175    -0.002201   \n",
       "wh_breakdown_l3m                       -0.012428       0.001300    -0.017832   \n",
       "govt_check_l3m                         -0.007258       0.002769    -0.006361   \n",
       "product_wg_ton                         -0.000725      -0.006040    -0.008325   \n",
       "New_wh_est_year                         0.348063      -0.012707     0.981481   \n",
       "New_Wh_breakdown                       -0.009530       0.002973    -0.009688   \n",
       "Location_type_Urban                    -0.005345      -0.001036     0.000254   \n",
       "WH_capacity_size_Mid                   -0.009568       0.004285    -0.017778   \n",
       "WH_capacity_size_Small                 -0.000960      -0.002912     0.010258   \n",
       "zone_North                              0.005041      -0.004239     0.001283   \n",
       "zone_South                             -0.001935       0.004174    -0.006181   \n",
       "zone_West                              -0.002364       0.002049     0.002797   \n",
       "WH_regional_zone_Zone 2                -0.011537      -0.000212    -0.014221   \n",
       "WH_regional_zone_Zone 3                 0.010330      -0.005417     0.005443   \n",
       "WH_regional_zone_Zone 4                -0.011384       0.010443    -0.015656   \n",
       "WH_regional_zone_Zone 5                 0.005704       0.001431     0.003930   \n",
       "WH_regional_zone_Zone 6                 0.003592      -0.002658     0.013365   \n",
       "wh_owner_type_Rented                   -0.229568      -0.000290    -0.194270   \n",
       "approved_wh_govt_certificate_A+        -0.004161       0.003430    -0.003276   \n",
       "approved_wh_govt_certificate_B         -0.005487       0.002448     0.000890   \n",
       "approved_wh_govt_certificate_B+         0.007462      -0.004036     0.001588   \n",
       "approved_wh_govt_certificate_C          0.001091      -0.005478     0.007284   \n",
       "\n",
       "                                 ...  WH_regional_zone_Zone 2  \\\n",
       "num_refill_req_l3m               ...                 0.003831   \n",
       "transport_issue_l1y              ...                -0.014448   \n",
       "Competitor_in_mkt                ...                -0.072800   \n",
       "retail_shop_num                  ...                 0.016668   \n",
       "distributor_num                  ...                -0.001834   \n",
       "flood_impacted                   ...                      NaN   \n",
       "flood_proof                      ...                      NaN   \n",
       "electric_supply                  ...                -0.011537   \n",
       "dist_from_hub                    ...                -0.000212   \n",
       "workers_num                      ...                -0.014221   \n",
       "wh_est_year                      ...                -0.000889   \n",
       "storage_issue_reported_l3m       ...                 0.009638   \n",
       "temp_reg_mach                    ...                 0.009176   \n",
       "wh_breakdown_l3m                 ...                -0.003267   \n",
       "govt_check_l3m                   ...                -0.043883   \n",
       "product_wg_ton                   ...                 0.011257   \n",
       "New_wh_est_year                  ...                -0.014119   \n",
       "New_Wh_breakdown                 ...                -0.043788   \n",
       "Location_type_Urban              ...                -0.005894   \n",
       "WH_capacity_size_Mid             ...                 0.448943   \n",
       "WH_capacity_size_Small           ...                -0.180102   \n",
       "zone_North                       ...                -0.087737   \n",
       "zone_South                       ...                 0.193329   \n",
       "zone_West                        ...                -0.074596   \n",
       "WH_regional_zone_Zone 2          ...                 1.000000   \n",
       "WH_regional_zone_Zone 3          ...                -0.132799   \n",
       "WH_regional_zone_Zone 4          ...                -0.165016   \n",
       "WH_regional_zone_Zone 5          ...                -0.173948   \n",
       "WH_regional_zone_Zone 6          ...                -0.260029   \n",
       "wh_owner_type_Rented             ...                 0.007692   \n",
       "approved_wh_govt_certificate_A+  ...                 0.001168   \n",
       "approved_wh_govt_certificate_B   ...                -0.004660   \n",
       "approved_wh_govt_certificate_B+  ...                -0.005061   \n",
       "approved_wh_govt_certificate_C   ...                 0.003324   \n",
       "\n",
       "                                 WH_regional_zone_Zone 3  \\\n",
       "num_refill_req_l3m                              0.004905   \n",
       "transport_issue_l1y                             0.003676   \n",
       "Competitor_in_mkt                               0.019859   \n",
       "retail_shop_num                                -0.059608   \n",
       "distributor_num                                -0.000499   \n",
       "flood_impacted                                       NaN   \n",
       "flood_proof                                          NaN   \n",
       "electric_supply                                 0.010330   \n",
       "dist_from_hub                                  -0.005417   \n",
       "workers_num                                     0.005443   \n",
       "wh_est_year                                     0.004083   \n",
       "storage_issue_reported_l3m                     -0.003124   \n",
       "temp_reg_mach                                   0.007587   \n",
       "wh_breakdown_l3m                                0.006873   \n",
       "govt_check_l3m                                  0.155470   \n",
       "product_wg_ton                                 -0.003865   \n",
       "New_wh_est_year                                 0.006121   \n",
       "New_Wh_breakdown                                0.154226   \n",
       "Location_type_Urban                             0.004005   \n",
       "WH_capacity_size_Mid                            0.440216   \n",
       "WH_capacity_size_Small                         -0.176601   \n",
       "zone_North                                     -0.059490   \n",
       "zone_South                                      0.045018   \n",
       "zone_West                                       0.004298   \n",
       "WH_regional_zone_Zone 2                        -0.132799   \n",
       "WH_regional_zone_Zone 3                         1.000000   \n",
       "WH_regional_zone_Zone 4                        -0.161808   \n",
       "WH_regional_zone_Zone 5                        -0.170567   \n",
       "WH_regional_zone_Zone 6                        -0.254974   \n",
       "wh_owner_type_Rented                           -0.008628   \n",
       "approved_wh_govt_certificate_A+                 0.015225   \n",
       "approved_wh_govt_certificate_B                  0.005431   \n",
       "approved_wh_govt_certificate_B+                -0.012790   \n",
       "approved_wh_govt_certificate_C                 -0.000186   \n",
       "\n",
       "                                 WH_regional_zone_Zone 4  \\\n",
       "num_refill_req_l3m                              0.001357   \n",
       "transport_issue_l1y                             0.007813   \n",
       "Competitor_in_mkt                               0.056721   \n",
       "retail_shop_num                                 0.019795   \n",
       "distributor_num                                 0.004285   \n",
       "flood_impacted                                       NaN   \n",
       "flood_proof                                          NaN   \n",
       "electric_supply                                -0.011384   \n",
       "dist_from_hub                                   0.010443   \n",
       "workers_num                                    -0.015656   \n",
       "wh_est_year                                     0.002533   \n",
       "storage_issue_reported_l3m                      0.004751   \n",
       "temp_reg_mach                                  -0.003934   \n",
       "wh_breakdown_l3m                                0.004887   \n",
       "govt_check_l3m                                  0.151795   \n",
       "product_wg_ton                                  0.003775   \n",
       "New_wh_est_year                                -0.014871   \n",
       "New_Wh_breakdown                                0.150230   \n",
       "Location_type_Urban                             0.011458   \n",
       "WH_capacity_size_Mid                            0.547012   \n",
       "WH_capacity_size_Small                         -0.219445   \n",
       "zone_North                                     -0.114646   \n",
       "zone_South                                     -0.045465   \n",
       "zone_West                                       0.147160   \n",
       "WH_regional_zone_Zone 2                        -0.165016   \n",
       "WH_regional_zone_Zone 3                        -0.161808   \n",
       "WH_regional_zone_Zone 4                         1.000000   \n",
       "WH_regional_zone_Zone 5                        -0.211946   \n",
       "WH_regional_zone_Zone 6                        -0.316831   \n",
       "wh_owner_type_Rented                           -0.004684   \n",
       "approved_wh_govt_certificate_A+                -0.005087   \n",
       "approved_wh_govt_certificate_B                  0.004707   \n",
       "approved_wh_govt_certificate_B+                 0.007522   \n",
       "approved_wh_govt_certificate_C                 -0.003930   \n",
       "\n",
       "                                 WH_regional_zone_Zone 5  \\\n",
       "num_refill_req_l3m                             -0.004324   \n",
       "transport_issue_l1y                            -0.002807   \n",
       "Competitor_in_mkt                              -0.025948   \n",
       "retail_shop_num                                -0.031522   \n",
       "distributor_num                                 0.003992   \n",
       "flood_impacted                                       NaN   \n",
       "flood_proof                                          NaN   \n",
       "electric_supply                                 0.005704   \n",
       "dist_from_hub                                   0.001431   \n",
       "workers_num                                     0.003930   \n",
       "wh_est_year                                    -0.000076   \n",
       "storage_issue_reported_l3m                     -0.000928   \n",
       "temp_reg_mach                                   0.011815   \n",
       "wh_breakdown_l3m                                0.006631   \n",
       "govt_check_l3m                                 -0.125302   \n",
       "product_wg_ton                                 -0.000830   \n",
       "New_wh_est_year                                 0.003840   \n",
       "New_Wh_breakdown                               -0.121958   \n",
       "Location_type_Urban                            -0.004104   \n",
       "WH_capacity_size_Mid                           -0.387462   \n",
       "WH_capacity_size_Small                         -0.231323   \n",
       "zone_North                                      0.006614   \n",
       "zone_South                                     -0.013059   \n",
       "zone_West                                       0.007180   \n",
       "WH_regional_zone_Zone 2                        -0.173948   \n",
       "WH_regional_zone_Zone 3                        -0.170567   \n",
       "WH_regional_zone_Zone 4                        -0.211946   \n",
       "WH_regional_zone_Zone 5                         1.000000   \n",
       "WH_regional_zone_Zone 6                        -0.333981   \n",
       "wh_owner_type_Rented                           -0.002390   \n",
       "approved_wh_govt_certificate_A+                -0.001132   \n",
       "approved_wh_govt_certificate_B                 -0.012916   \n",
       "approved_wh_govt_certificate_B+                 0.007049   \n",
       "approved_wh_govt_certificate_C                  0.002584   \n",
       "\n",
       "                                 WH_regional_zone_Zone 6  \\\n",
       "num_refill_req_l3m                              0.005417   \n",
       "transport_issue_l1y                            -0.001129   \n",
       "Competitor_in_mkt                               0.016855   \n",
       "retail_shop_num                                 0.008851   \n",
       "distributor_num                                -0.005969   \n",
       "flood_impacted                                       NaN   \n",
       "flood_proof                                          NaN   \n",
       "electric_supply                                 0.003592   \n",
       "dist_from_hub                                  -0.002658   \n",
       "workers_num                                     0.013365   \n",
       "wh_est_year                                    -0.004863   \n",
       "storage_issue_reported_l3m                     -0.001665   \n",
       "temp_reg_mach                                  -0.014735   \n",
       "wh_breakdown_l3m                               -0.011085   \n",
       "govt_check_l3m                                 -0.118239   \n",
       "product_wg_ton                                 -0.001689   \n",
       "New_wh_est_year                                 0.012178   \n",
       "New_Wh_breakdown                               -0.118421   \n",
       "Location_type_Urban                             0.004633   \n",
       "WH_capacity_size_Mid                           -0.579202   \n",
       "WH_capacity_size_Small                          0.249355   \n",
       "zone_North                                      0.183708   \n",
       "zone_South                                     -0.144974   \n",
       "zone_West                                      -0.043452   \n",
       "WH_regional_zone_Zone 2                        -0.260029   \n",
       "WH_regional_zone_Zone 3                        -0.254974   \n",
       "WH_regional_zone_Zone 4                        -0.316831   \n",
       "WH_regional_zone_Zone 5                        -0.333981   \n",
       "WH_regional_zone_Zone 6                         1.000000   \n",
       "wh_owner_type_Rented                            0.009939   \n",
       "approved_wh_govt_certificate_A+                -0.001730   \n",
       "approved_wh_govt_certificate_B                  0.009329   \n",
       "approved_wh_govt_certificate_B+                 0.000990   \n",
       "approved_wh_govt_certificate_C                 -0.003102   \n",
       "\n",
       "                                 wh_owner_type_Rented  \\\n",
       "num_refill_req_l3m                           0.009968   \n",
       "transport_issue_l1y                          0.002650   \n",
       "Competitor_in_mkt                           -0.004810   \n",
       "retail_shop_num                              0.004131   \n",
       "distributor_num                              0.001674   \n",
       "flood_impacted                                    NaN   \n",
       "flood_proof                                       NaN   \n",
       "electric_supply                             -0.229568   \n",
       "dist_from_hub                               -0.000290   \n",
       "workers_num                                 -0.194270   \n",
       "wh_est_year                                 -0.010802   \n",
       "storage_issue_reported_l3m                   0.003537   \n",
       "temp_reg_mach                                0.001188   \n",
       "wh_breakdown_l3m                             0.011479   \n",
       "govt_check_l3m                               0.016891   \n",
       "product_wg_ton                               0.003412   \n",
       "New_wh_est_year                             -0.192620   \n",
       "New_Wh_breakdown                             0.018822   \n",
       "Location_type_Urban                         -0.001088   \n",
       "WH_capacity_size_Mid                        -0.004100   \n",
       "WH_capacity_size_Small                      -0.000574   \n",
       "zone_North                                   0.006738   \n",
       "zone_South                                  -0.001744   \n",
       "zone_West                                   -0.004811   \n",
       "WH_regional_zone_Zone 2                      0.007692   \n",
       "WH_regional_zone_Zone 3                     -0.008628   \n",
       "WH_regional_zone_Zone 4                     -0.004684   \n",
       "WH_regional_zone_Zone 5                     -0.002390   \n",
       "WH_regional_zone_Zone 6                      0.009939   \n",
       "wh_owner_type_Rented                         1.000000   \n",
       "approved_wh_govt_certificate_A+              0.001454   \n",
       "approved_wh_govt_certificate_B              -0.001488   \n",
       "approved_wh_govt_certificate_B+              0.009098   \n",
       "approved_wh_govt_certificate_C              -0.004886   \n",
       "\n",
       "                                 approved_wh_govt_certificate_A+  \\\n",
       "num_refill_req_l3m                                      0.003808   \n",
       "transport_issue_l1y                                    -0.012566   \n",
       "Competitor_in_mkt                                      -0.000725   \n",
       "retail_shop_num                                        -0.005715   \n",
       "distributor_num                                         0.006939   \n",
       "flood_impacted                                               NaN   \n",
       "flood_proof                                                  NaN   \n",
       "electric_supply                                        -0.004161   \n",
       "dist_from_hub                                           0.003430   \n",
       "workers_num                                            -0.003276   \n",
       "wh_est_year                                            -0.053291   \n",
       "storage_issue_reported_l3m                              0.134637   \n",
       "temp_reg_mach                                           0.448265   \n",
       "wh_breakdown_l3m                                        0.092829   \n",
       "govt_check_l3m                                         -0.004823   \n",
       "product_wg_ton                                          0.178228   \n",
       "New_wh_est_year                                        -0.013422   \n",
       "New_Wh_breakdown                                        0.013122   \n",
       "Location_type_Urban                                     0.024400   \n",
       "WH_capacity_size_Mid                                    0.006813   \n",
       "WH_capacity_size_Small                                  0.003271   \n",
       "zone_North                                              0.001846   \n",
       "zone_South                                              0.005402   \n",
       "zone_West                                              -0.006880   \n",
       "WH_regional_zone_Zone 2                                 0.001168   \n",
       "WH_regional_zone_Zone 3                                 0.015225   \n",
       "WH_regional_zone_Zone 4                                -0.005087   \n",
       "WH_regional_zone_Zone 5                                -0.001132   \n",
       "WH_regional_zone_Zone 6                                -0.001730   \n",
       "wh_owner_type_Rented                                    0.001454   \n",
       "approved_wh_govt_certificate_A+                         1.000000   \n",
       "approved_wh_govt_certificate_B                         -0.220159   \n",
       "approved_wh_govt_certificate_B+                        -0.221819   \n",
       "approved_wh_govt_certificate_C                         -0.264103   \n",
       "\n",
       "                                 approved_wh_govt_certificate_B  \\\n",
       "num_refill_req_l3m                                     0.002539   \n",
       "transport_issue_l1y                                   -0.004935   \n",
       "Competitor_in_mkt                                     -0.002375   \n",
       "retail_shop_num                                        0.005931   \n",
       "distributor_num                                        0.003043   \n",
       "flood_impacted                                              NaN   \n",
       "flood_proof                                                 NaN   \n",
       "electric_supply                                       -0.005487   \n",
       "dist_from_hub                                          0.002448   \n",
       "workers_num                                            0.000890   \n",
       "wh_est_year                                           -0.015468   \n",
       "storage_issue_reported_l3m                             0.027310   \n",
       "temp_reg_mach                                         -0.103649   \n",
       "wh_breakdown_l3m                                       0.037601   \n",
       "govt_check_l3m                                         0.017694   \n",
       "product_wg_ton                                        -0.033444   \n",
       "New_wh_est_year                                       -0.002090   \n",
       "New_Wh_breakdown                                       0.024639   \n",
       "Location_type_Urban                                    0.006258   \n",
       "WH_capacity_size_Mid                                   0.004040   \n",
       "WH_capacity_size_Small                                -0.001997   \n",
       "zone_North                                            -0.005559   \n",
       "zone_South                                             0.003736   \n",
       "zone_West                                              0.000069   \n",
       "WH_regional_zone_Zone 2                               -0.004660   \n",
       "WH_regional_zone_Zone 3                                0.005431   \n",
       "WH_regional_zone_Zone 4                                0.004707   \n",
       "WH_regional_zone_Zone 5                               -0.012916   \n",
       "WH_regional_zone_Zone 6                                0.009329   \n",
       "wh_owner_type_Rented                                  -0.001488   \n",
       "approved_wh_govt_certificate_A+                       -0.220159   \n",
       "approved_wh_govt_certificate_B                         1.000000   \n",
       "approved_wh_govt_certificate_B+                       -0.240545   \n",
       "approved_wh_govt_certificate_C                        -0.286399   \n",
       "\n",
       "                                 approved_wh_govt_certificate_B+  \\\n",
       "num_refill_req_l3m                                      0.006154   \n",
       "transport_issue_l1y                                     0.014695   \n",
       "Competitor_in_mkt                                      -0.005628   \n",
       "retail_shop_num                                         0.004265   \n",
       "distributor_num                                        -0.008558   \n",
       "flood_impacted                                               NaN   \n",
       "flood_proof                                                  NaN   \n",
       "electric_supply                                         0.007462   \n",
       "dist_from_hub                                          -0.004036   \n",
       "workers_num                                             0.001588   \n",
       "wh_est_year                                            -0.010162   \n",
       "storage_issue_reported_l3m                              0.034313   \n",
       "temp_reg_mach                                          -0.113529   \n",
       "wh_breakdown_l3m                                        0.033767   \n",
       "govt_check_l3m                                         -0.004264   \n",
       "product_wg_ton                                         -0.027907   \n",
       "New_wh_est_year                                        -0.000389   \n",
       "New_Wh_breakdown                                        0.002305   \n",
       "Location_type_Urban                                    -0.005508   \n",
       "WH_capacity_size_Mid                                   -0.005947   \n",
       "WH_capacity_size_Small                                  0.000018   \n",
       "zone_North                                             -0.009539   \n",
       "zone_South                                              0.004438   \n",
       "zone_West                                               0.006534   \n",
       "WH_regional_zone_Zone 2                                -0.005061   \n",
       "WH_regional_zone_Zone 3                                -0.012790   \n",
       "WH_regional_zone_Zone 4                                 0.007522   \n",
       "WH_regional_zone_Zone 5                                 0.007049   \n",
       "WH_regional_zone_Zone 6                                 0.000990   \n",
       "wh_owner_type_Rented                                    0.009098   \n",
       "approved_wh_govt_certificate_A+                        -0.221819   \n",
       "approved_wh_govt_certificate_B                         -0.240545   \n",
       "approved_wh_govt_certificate_B+                         1.000000   \n",
       "approved_wh_govt_certificate_C                         -0.288558   \n",
       "\n",
       "                                 approved_wh_govt_certificate_C  \n",
       "num_refill_req_l3m                                    -0.011536  \n",
       "transport_issue_l1y                                   -0.003892  \n",
       "Competitor_in_mkt                                      0.000437  \n",
       "retail_shop_num                                       -0.004426  \n",
       "distributor_num                                       -0.002887  \n",
       "flood_impacted                                              NaN  \n",
       "flood_proof                                                 NaN  \n",
       "electric_supply                                        0.001091  \n",
       "dist_from_hub                                         -0.005478  \n",
       "workers_num                                            0.007284  \n",
       "wh_est_year                                            0.094265  \n",
       "storage_issue_reported_l3m                            -0.221701  \n",
       "temp_reg_mach                                         -0.093344  \n",
       "wh_breakdown_l3m                                      -0.195070  \n",
       "govt_check_l3m                                        -0.002485  \n",
       "product_wg_ton                                        -0.169939  \n",
       "New_wh_est_year                                        0.025202  \n",
       "New_Wh_breakdown                                      -0.039987  \n",
       "Location_type_Urban                                   -0.023150  \n",
       "WH_capacity_size_Mid                                  -0.000916  \n",
       "WH_capacity_size_Small                                 0.006961  \n",
       "zone_North                                             0.010934  \n",
       "zone_South                                            -0.003618  \n",
       "zone_West                                             -0.006895  \n",
       "WH_regional_zone_Zone 2                                0.003324  \n",
       "WH_regional_zone_Zone 3                               -0.000186  \n",
       "WH_regional_zone_Zone 4                               -0.003930  \n",
       "WH_regional_zone_Zone 5                                0.002584  \n",
       "WH_regional_zone_Zone 6                               -0.003102  \n",
       "wh_owner_type_Rented                                  -0.004886  \n",
       "approved_wh_govt_certificate_A+                       -0.264103  \n",
       "approved_wh_govt_certificate_B                        -0.286399  \n",
       "approved_wh_govt_certificate_B+                       -0.288558  \n",
       "approved_wh_govt_certificate_C                         1.000000  \n",
       "\n",
       "[34 rows x 34 columns]"
      ]
     },
     "execution_count": 48,
     "metadata": {},
     "output_type": "execute_result"
    }
   ],
   "source": [
    "comatrix=new_df1.corr()\n",
    "comatrix"
   ]
  },
  {
   "cell_type": "code",
   "execution_count": 49,
   "id": "02fc477f",
   "metadata": {},
   "outputs": [
    {
     "data": {
      "text/plain": [
       "<AxesSubplot:>"
      ]
     },
     "execution_count": 49,
     "metadata": {},
     "output_type": "execute_result"
    },
    {
     "data": {
      "image/png": "[encoded data removed]",
      "text/plain": [
       "<Figure size 432x288 with 2 Axes>"
      ]
     },
     "metadata": {
      "needs_background": "light"
     },
     "output_type": "display_data"
    }
   ],
   "source": [
    "sns.heatmap(comatrix)"
   ]
  },
  {
   "cell_type": "code",
   "execution_count": 50,
   "id": "200bfb21",
   "metadata": {},
   "outputs": [],
   "source": [
    "#x=new_df1.iloc[:, 0:35]\n",
    "#y=new_df1.iloc[:, -1]"
   ]
  },
  {
   "cell_type": "markdown",
   "id": "62133fde",
   "metadata": {},
   "source": [
    "# VIF calculation\n",
    "A variance inflation factor (VIF) is a measure of the amount of multicollinearity in regression analysis.\n",
    "Multicollinearity exists when there is a correlation between multiple independent variables in a multiple regression model. This can adversely affect the regression results."
   ]
  },
  {
   "cell_type": "code",
   "execution_count": 51,
   "id": "8d848ec1",
   "metadata": {},
   "outputs": [
    {
     "name": "stdout",
     "output_type": "stream",
     "text": [
      "R-Sqr value of transport_issue_l1y is 0.3603612500039106\n",
      "VIF for transport_issue_l1y is 1.56\n",
      "R-Sqr value of Competitor_in_mkt is 0.9094163374497056\n",
      "VIF for Competitor_in_mkt is 11.04\n",
      "R-Sqr value of retail_shop_num is 0.9648369590292223\n",
      "VIF for retail_shop_num is 28.44\n",
      "R-Sqr value of distributor_num is 0.8745747919588174\n",
      "VIF for distributor_num is 7.97\n",
      "R-Sqr value of flood_impacted is nan\n",
      "VIF for flood_impacted is nan\n",
      "R-Sqr value of flood_proof is nan\n",
      "VIF for flood_proof is nan\n",
      "R-Sqr value of electric_supply is 0.7090961279978787\n",
      "VIF for electric_supply is 3.44\n",
      "R-Sqr value of dist_from_hub is 0.8722214785424834\n",
      "VIF for dist_from_hub is 7.83\n",
      "R-Sqr value of workers_num is 1.0\n",
      "VIF for workers_num is inf\n",
      "R-Sqr value of wh_est_year is 1.0\n",
      "VIF for wh_est_year is inf\n",
      "R-Sqr value of storage_issue_reported_l3m is 0.8209417576143743\n",
      "VIF for storage_issue_reported_l3m is 5.58\n",
      "R-Sqr value of temp_reg_mach is 0.4932798035597097\n",
      "VIF for temp_reg_mach is 1.97\n",
      "R-Sqr value of wh_breakdown_l3m is 1.0\n",
      "VIF for wh_breakdown_l3m is inf\n",
      "R-Sqr value of govt_check_l3m is 1.0\n",
      "VIF for govt_check_l3m is inf\n",
      "R-Sqr value of New_wh_est_year is 1.0\n",
      "VIF for New_wh_est_year is inf\n",
      "R-Sqr value of New_Wh_breakdown is 1.0\n",
      "VIF for New_Wh_breakdown is inf\n",
      "R-Sqr value of Location_type_Urban is -67.87729759101859\n",
      "VIF for Location_type_Urban is 0.01\n",
      "R-Sqr value of WH_capacity_size_Mid is 1.0\n",
      "VIF for WH_capacity_size_Mid is inf\n",
      "R-Sqr value of WH_capacity_size_Small is -6.335059091509861\n",
      "VIF for WH_capacity_size_Small is 0.14\n",
      "R-Sqr value of zone_North is -2.0754748738139623\n",
      "VIF for zone_North is 0.33\n",
      "R-Sqr value of zone_South is -25.630233774905275\n",
      "VIF for zone_South is 0.04\n",
      "R-Sqr value of zone_West is -1.4042086227041652\n",
      "VIF for zone_West is 0.42\n",
      "R-Sqr value of WH_regional_zone_Zone 2 is 1.0\n",
      "VIF for WH_regional_zone_Zone 2 is inf\n",
      "R-Sqr value of WH_regional_zone_Zone 3 is 1.0\n",
      "VIF for WH_regional_zone_Zone 3 is inf\n",
      "R-Sqr value of WH_regional_zone_Zone 4 is 1.0\n",
      "VIF for WH_regional_zone_Zone 4 is inf\n",
      "R-Sqr value of WH_regional_zone_Zone 5 is -2.066883735651995\n",
      "VIF for WH_regional_zone_Zone 5 is 0.33\n",
      "R-Sqr value of WH_regional_zone_Zone 6 is -3.645739533141339\n",
      "VIF for WH_regional_zone_Zone 6 is 0.22\n",
      "R-Sqr value of wh_owner_type_Rented is -38.09658655793028\n",
      "VIF for wh_owner_type_Rented is 0.03\n",
      "R-Sqr value of approved_wh_govt_certificate_A+ is -9.802956294884966\n",
      "VIF for approved_wh_govt_certificate_A+ is 0.09\n",
      "R-Sqr value of approved_wh_govt_certificate_B is -11.15723705151395\n",
      "VIF for approved_wh_govt_certificate_B is 0.08\n",
      "R-Sqr value of approved_wh_govt_certificate_B+ is -8.407203551504928\n",
      "VIF for approved_wh_govt_certificate_B+ is 0.11\n",
      "R-Sqr value of approved_wh_govt_certificate_C is -71.03106351715854\n",
      "VIF for approved_wh_govt_certificate_C is 0.01\n"
     ]
    }
   ],
   "source": [
    "# Let's check multicollinearity \n",
    "# to calculated VIF we can use the loop\n",
    "Default_indep=new_df1.loc[:,new_df1.columns!='product_wg_ton']\n",
    "\n",
    "import statsmodels.api as sm\n",
    "features=list(Default_indep.columns)\n",
    "for i in range(1, len(Default_indep.columns)):\n",
    "    x=Default_indep.loc[:,Default_indep.columns!=features[i]]\n",
    "    y=Default_indep.loc[:,Default_indep.columns==features[i]]\n",
    "    model=sm.OLS(y,x)\n",
    "    results=model.fit()\n",
    "\n",
    "    rsq=results.rsquared\n",
    "    vif=round(1/(1-rsq),2)\n",
    "    print (\"R-Sqr value of {} is {}\".format(features[i],rsq))\n",
    "    print ('VIF for {} is {}'.format(features[i],vif))"
   ]
  },
  {
   "cell_type": "markdown",
   "id": "49e46ad5",
   "metadata": {},
   "source": [
    "# We see high multicollinearity with features, can treat them with PCA or iterative metho"
   ]
  },
  {
   "cell_type": "code",
   "execution_count": 52,
   "id": "d2eff138",
   "metadata": {},
   "outputs": [],
   "source": [
    "#We can reduce the multicollinearity with PCA \n",
    "\n",
    "from sklearn.decomposition import PCA\n",
    "pca=PCA()"
   ]
  },
  {
   "cell_type": "code",
   "execution_count": 53,
   "id": "a358ce5f",
   "metadata": {},
   "outputs": [],
   "source": [
    "from sklearn.preprocessing import StandardScaler"
   ]
  },
  {
   "cell_type": "code",
   "execution_count": 54,
   "id": "4824b08a",
   "metadata": {},
   "outputs": [],
   "source": [
    "scalar=StandardScaler()\n",
    "\n",
    "scalar.fit(Default_indep)\n",
    "scaled_df=scalar.transform(Default_indep)"
   ]
  },
  {
   "cell_type": "code",
   "execution_count": 55,
   "id": "73681544",
   "metadata": {},
   "outputs": [
    {
     "data": {
      "text/plain": [
       "array([[-2.45416328e-03, -1.40107966e-03,  4.49475725e-02, ...,\n",
       "        -1.54185807e-02,  1.20095567e-03,  3.42066848e-02],\n",
       "       [ 1.57637355e-03, -1.65873181e-04, -6.13664816e-03, ...,\n",
       "        -1.81244164e-02, -1.54328969e-02,  1.22250303e-01],\n",
       "       [ 2.17051025e-02, -6.37168007e-03,  2.14028708e-01, ...,\n",
       "        -2.63497374e-02, -4.47862081e-03,  5.85664658e-02],\n",
       "       ...,\n",
       "       [-0.00000000e+00,  1.68933433e-16,  1.13366220e-16, ...,\n",
       "        -3.06699217e-17, -9.55542172e-17, -1.78231696e-17],\n",
       "       [ 0.00000000e+00, -5.02012908e-17,  1.05174936e-16, ...,\n",
       "        -2.46233615e-17,  1.45483239e-16,  5.44188112e-17],\n",
       "       [ 0.00000000e+00,  3.83210203e-17,  6.74682614e-18, ...,\n",
       "         7.07611743e-17,  4.73861955e-17,  6.17395103e-17]])"
      ]
     },
     "execution_count": 55,
     "metadata": {},
     "output_type": "execute_result"
    }
   ],
   "source": [
    "# finding the PCA\n",
    "PCA_result=pca.fit(scaled_df)\n",
    "PCA_result.components_"
   ]
  },
  {
   "cell_type": "code",
   "execution_count": 56,
   "id": "9f80a0ae",
   "metadata": {
    "scrolled": true
   },
   "outputs": [
    {
     "data": {
      "text/plain": [
       "array([2.83578134e+00, 2.34282413e+00, 2.14778602e+00, 1.97815624e+00,\n",
       "       1.72349406e+00, 1.59440540e+00, 1.43593777e+00, 1.30977039e+00,\n",
       "       1.24427073e+00, 1.22164331e+00, 1.18021904e+00, 1.04565792e+00,\n",
       "       1.03033634e+00, 1.01300906e+00, 1.00259937e+00, 9.88310257e-01,\n",
       "       9.72006236e-01, 9.58627263e-01, 9.28259149e-01, 7.80673263e-01,\n",
       "       7.43319381e-01, 7.22931911e-01, 5.82137308e-01, 5.28758944e-01,\n",
       "       3.69850450e-01, 2.28888127e-01, 6.77265085e-02, 2.40196753e-02,\n",
       "       5.59259259e-31, 1.56346006e-31, 7.24145864e-32, 1.24465131e-32,\n",
       "       3.64911607e-33])"
      ]
     },
     "execution_count": 56,
     "metadata": {},
     "output_type": "execute_result"
    }
   ],
   "source": [
    "PCA_result.explained_variance_"
   ]
  },
  {
   "cell_type": "markdown",
   "id": "f4feacca",
   "metadata": {},
   "source": [
    "# Train Test Split"
   ]
  },
  {
   "cell_type": "code",
   "execution_count": 57,
   "id": "f81a6363",
   "metadata": {},
   "outputs": [],
   "source": [
    "x = new_df1.drop('product_wg_ton',axis = 1)"
   ]
  },
  {
   "cell_type": "code",
   "execution_count": 58,
   "id": "8f2859ca",
   "metadata": {},
   "outputs": [],
   "source": [
    "y = new_df1['product_wg_ton']"
   ]
  },
  {
   "cell_type": "code",
   "execution_count": 59,
   "id": "3576666f",
   "metadata": {},
   "outputs": [
    {
     "data": {
      "text/html": [
       "<div>\n",
       "<style scoped>\n",
       "    .dataframe tbody tr th:only-of-type {\n",
       "        vertical-align: middle;\n",
       "    }\n",
       "\n",
       "    .dataframe tbody tr th {\n",
       "        vertical-align: top;\n",
       "    }\n",
       "\n",
       "    .dataframe thead th {\n",
       "        text-align: right;\n",
       "    }\n",
       "</style>\n",
       "<table border=\"1\" class=\"dataframe\">\n",
       "  <thead>\n",
       "    <tr style=\"text-align: right;\">\n",
       "      <th></th>\n",
       "      <th>num_refill_req_l3m</th>\n",
       "      <th>transport_issue_l1y</th>\n",
       "      <th>Competitor_in_mkt</th>\n",
       "      <th>retail_shop_num</th>\n",
       "      <th>distributor_num</th>\n",
       "      <th>flood_impacted</th>\n",
       "      <th>flood_proof</th>\n",
       "      <th>electric_supply</th>\n",
       "      <th>dist_from_hub</th>\n",
       "      <th>workers_num</th>\n",
       "      <th>...</th>\n",
       "      <th>WH_regional_zone_Zone 2</th>\n",
       "      <th>WH_regional_zone_Zone 3</th>\n",
       "      <th>WH_regional_zone_Zone 4</th>\n",
       "      <th>WH_regional_zone_Zone 5</th>\n",
       "      <th>WH_regional_zone_Zone 6</th>\n",
       "      <th>wh_owner_type_Rented</th>\n",
       "      <th>approved_wh_govt_certificate_A+</th>\n",
       "      <th>approved_wh_govt_certificate_B</th>\n",
       "      <th>approved_wh_govt_certificate_B+</th>\n",
       "      <th>approved_wh_govt_certificate_C</th>\n",
       "    </tr>\n",
       "  </thead>\n",
       "  <tbody>\n",
       "    <tr>\n",
       "      <th>0</th>\n",
       "      <td>3</td>\n",
       "      <td>1.0</td>\n",
       "      <td>2.0</td>\n",
       "      <td>4651.0</td>\n",
       "      <td>24.0</td>\n",
       "      <td>0.0</td>\n",
       "      <td>0.0</td>\n",
       "      <td>1</td>\n",
       "      <td>91</td>\n",
       "      <td>29.0</td>\n",
       "      <td>...</td>\n",
       "      <td>0</td>\n",
       "      <td>0</td>\n",
       "      <td>0</td>\n",
       "      <td>0</td>\n",
       "      <td>1</td>\n",
       "      <td>1</td>\n",
       "      <td>0</td>\n",
       "      <td>0</td>\n",
       "      <td>0</td>\n",
       "      <td>0</td>\n",
       "    </tr>\n",
       "    <tr>\n",
       "      <th>1</th>\n",
       "      <td>0</td>\n",
       "      <td>0.0</td>\n",
       "      <td>4.0</td>\n",
       "      <td>6217.0</td>\n",
       "      <td>47.0</td>\n",
       "      <td>0.0</td>\n",
       "      <td>0.0</td>\n",
       "      <td>1</td>\n",
       "      <td>210</td>\n",
       "      <td>31.0</td>\n",
       "      <td>...</td>\n",
       "      <td>0</td>\n",
       "      <td>0</td>\n",
       "      <td>0</td>\n",
       "      <td>1</td>\n",
       "      <td>0</td>\n",
       "      <td>0</td>\n",
       "      <td>0</td>\n",
       "      <td>0</td>\n",
       "      <td>0</td>\n",
       "      <td>0</td>\n",
       "    </tr>\n",
       "    <tr>\n",
       "      <th>2</th>\n",
       "      <td>1</td>\n",
       "      <td>0.0</td>\n",
       "      <td>4.0</td>\n",
       "      <td>4306.0</td>\n",
       "      <td>64.0</td>\n",
       "      <td>0.0</td>\n",
       "      <td>0.0</td>\n",
       "      <td>0</td>\n",
       "      <td>161</td>\n",
       "      <td>37.0</td>\n",
       "      <td>...</td>\n",
       "      <td>1</td>\n",
       "      <td>0</td>\n",
       "      <td>0</td>\n",
       "      <td>0</td>\n",
       "      <td>0</td>\n",
       "      <td>0</td>\n",
       "      <td>0</td>\n",
       "      <td>0</td>\n",
       "      <td>0</td>\n",
       "      <td>0</td>\n",
       "    </tr>\n",
       "    <tr>\n",
       "      <th>3</th>\n",
       "      <td>7</td>\n",
       "      <td>2.5</td>\n",
       "      <td>2.0</td>\n",
       "      <td>6000.0</td>\n",
       "      <td>50.0</td>\n",
       "      <td>0.0</td>\n",
       "      <td>0.0</td>\n",
       "      <td>0</td>\n",
       "      <td>103</td>\n",
       "      <td>21.0</td>\n",
       "      <td>...</td>\n",
       "      <td>0</td>\n",
       "      <td>1</td>\n",
       "      <td>0</td>\n",
       "      <td>0</td>\n",
       "      <td>0</td>\n",
       "      <td>1</td>\n",
       "      <td>1</td>\n",
       "      <td>0</td>\n",
       "      <td>0</td>\n",
       "      <td>0</td>\n",
       "    </tr>\n",
       "    <tr>\n",
       "      <th>4</th>\n",
       "      <td>3</td>\n",
       "      <td>1.0</td>\n",
       "      <td>2.0</td>\n",
       "      <td>4740.0</td>\n",
       "      <td>42.0</td>\n",
       "      <td>0.0</td>\n",
       "      <td>0.0</td>\n",
       "      <td>1</td>\n",
       "      <td>112</td>\n",
       "      <td>25.0</td>\n",
       "      <td>...</td>\n",
       "      <td>0</td>\n",
       "      <td>0</td>\n",
       "      <td>0</td>\n",
       "      <td>1</td>\n",
       "      <td>0</td>\n",
       "      <td>0</td>\n",
       "      <td>0</td>\n",
       "      <td>0</td>\n",
       "      <td>0</td>\n",
       "      <td>1</td>\n",
       "    </tr>\n",
       "    <tr>\n",
       "      <th>...</th>\n",
       "      <td>...</td>\n",
       "      <td>...</td>\n",
       "      <td>...</td>\n",
       "      <td>...</td>\n",
       "      <td>...</td>\n",
       "      <td>...</td>\n",
       "      <td>...</td>\n",
       "      <td>...</td>\n",
       "      <td>...</td>\n",
       "      <td>...</td>\n",
       "      <td>...</td>\n",
       "      <td>...</td>\n",
       "      <td>...</td>\n",
       "      <td>...</td>\n",
       "      <td>...</td>\n",
       "      <td>...</td>\n",
       "      <td>...</td>\n",
       "      <td>...</td>\n",
       "      <td>...</td>\n",
       "      <td>...</td>\n",
       "      <td>...</td>\n",
       "    </tr>\n",
       "    <tr>\n",
       "      <th>22145</th>\n",
       "      <td>8</td>\n",
       "      <td>1.0</td>\n",
       "      <td>3.0</td>\n",
       "      <td>5030.0</td>\n",
       "      <td>46.0</td>\n",
       "      <td>0.0</td>\n",
       "      <td>0.0</td>\n",
       "      <td>1</td>\n",
       "      <td>203</td>\n",
       "      <td>28.0</td>\n",
       "      <td>...</td>\n",
       "      <td>0</td>\n",
       "      <td>0</td>\n",
       "      <td>0</td>\n",
       "      <td>0</td>\n",
       "      <td>1</td>\n",
       "      <td>1</td>\n",
       "      <td>1</td>\n",
       "      <td>0</td>\n",
       "      <td>0</td>\n",
       "      <td>0</td>\n",
       "    </tr>\n",
       "    <tr>\n",
       "      <th>22146</th>\n",
       "      <td>3</td>\n",
       "      <td>1.0</td>\n",
       "      <td>3.0</td>\n",
       "      <td>4320.0</td>\n",
       "      <td>60.0</td>\n",
       "      <td>0.0</td>\n",
       "      <td>0.0</td>\n",
       "      <td>0</td>\n",
       "      <td>170</td>\n",
       "      <td>28.0</td>\n",
       "      <td>...</td>\n",
       "      <td>0</td>\n",
       "      <td>0</td>\n",
       "      <td>0</td>\n",
       "      <td>0</td>\n",
       "      <td>1</td>\n",
       "      <td>1</td>\n",
       "      <td>0</td>\n",
       "      <td>0</td>\n",
       "      <td>0</td>\n",
       "      <td>1</td>\n",
       "    </tr>\n",
       "    <tr>\n",
       "      <th>22147</th>\n",
       "      <td>7</td>\n",
       "      <td>2.0</td>\n",
       "      <td>2.0</td>\n",
       "      <td>5268.0</td>\n",
       "      <td>64.0</td>\n",
       "      <td>0.0</td>\n",
       "      <td>0.0</td>\n",
       "      <td>0</td>\n",
       "      <td>99</td>\n",
       "      <td>22.0</td>\n",
       "      <td>...</td>\n",
       "      <td>0</td>\n",
       "      <td>0</td>\n",
       "      <td>0</td>\n",
       "      <td>0</td>\n",
       "      <td>1</td>\n",
       "      <td>0</td>\n",
       "      <td>0</td>\n",
       "      <td>0</td>\n",
       "      <td>1</td>\n",
       "      <td>0</td>\n",
       "    </tr>\n",
       "    <tr>\n",
       "      <th>22148</th>\n",
       "      <td>6</td>\n",
       "      <td>2.0</td>\n",
       "      <td>4.0</td>\n",
       "      <td>4378.0</td>\n",
       "      <td>32.0</td>\n",
       "      <td>0.0</td>\n",
       "      <td>0.0</td>\n",
       "      <td>0</td>\n",
       "      <td>220</td>\n",
       "      <td>17.0</td>\n",
       "      <td>...</td>\n",
       "      <td>0</td>\n",
       "      <td>0</td>\n",
       "      <td>0</td>\n",
       "      <td>0</td>\n",
       "      <td>1</td>\n",
       "      <td>1</td>\n",
       "      <td>0</td>\n",
       "      <td>1</td>\n",
       "      <td>0</td>\n",
       "      <td>0</td>\n",
       "    </tr>\n",
       "    <tr>\n",
       "      <th>22149</th>\n",
       "      <td>7</td>\n",
       "      <td>2.0</td>\n",
       "      <td>7.0</td>\n",
       "      <td>3626.0</td>\n",
       "      <td>50.0</td>\n",
       "      <td>0.0</td>\n",
       "      <td>0.0</td>\n",
       "      <td>1</td>\n",
       "      <td>104</td>\n",
       "      <td>36.0</td>\n",
       "      <td>...</td>\n",
       "      <td>0</td>\n",
       "      <td>0</td>\n",
       "      <td>1</td>\n",
       "      <td>0</td>\n",
       "      <td>0</td>\n",
       "      <td>0</td>\n",
       "      <td>0</td>\n",
       "      <td>0</td>\n",
       "      <td>0</td>\n",
       "      <td>1</td>\n",
       "    </tr>\n",
       "  </tbody>\n",
       "</table>\n",
       "<p>22150 rows × 33 columns</p>\n",
       "</div>"
      ],
      "text/plain": [
       "       num_refill_req_l3m  transport_issue_l1y  Competitor_in_mkt  \\\n",
       "0                       3                  1.0                2.0   \n",
       "1                       0                  0.0                4.0   \n",
       "2                       1                  0.0                4.0   \n",
       "3                       7                  2.5                2.0   \n",
       "4                       3                  1.0                2.0   \n",
       "...                   ...                  ...                ...   \n",
       "22145                   8                  1.0                3.0   \n",
       "22146                   3                  1.0                3.0   \n",
       "22147                   7                  2.0                2.0   \n",
       "22148                   6                  2.0                4.0   \n",
       "22149                   7                  2.0                7.0   \n",
       "\n",
       "       retail_shop_num  distributor_num  flood_impacted  flood_proof  \\\n",
       "0               4651.0             24.0             0.0          0.0   \n",
       "1               6217.0             47.0             0.0          0.0   \n",
       "2               4306.0             64.0             0.0          0.0   \n",
       "3               6000.0             50.0             0.0          0.0   \n",
       "4               4740.0             42.0             0.0          0.0   \n",
       "...                ...              ...             ...          ...   \n",
       "22145           5030.0             46.0             0.0          0.0   \n",
       "22146           4320.0             60.0             0.0          0.0   \n",
       "22147           5268.0             64.0             0.0          0.0   \n",
       "22148           4378.0             32.0             0.0          0.0   \n",
       "22149           3626.0             50.0             0.0          0.0   \n",
       "\n",
       "       electric_supply  dist_from_hub  workers_num  ...  \\\n",
       "0                    1             91         29.0  ...   \n",
       "1                    1            210         31.0  ...   \n",
       "2                    0            161         37.0  ...   \n",
       "3                    0            103         21.0  ...   \n",
       "4                    1            112         25.0  ...   \n",
       "...                ...            ...          ...  ...   \n",
       "22145                1            203         28.0  ...   \n",
       "22146                0            170         28.0  ...   \n",
       "22147                0             99         22.0  ...   \n",
       "22148                0            220         17.0  ...   \n",
       "22149                1            104         36.0  ...   \n",
       "\n",
       "       WH_regional_zone_Zone 2  WH_regional_zone_Zone 3  \\\n",
       "0                            0                        0   \n",
       "1                            0                        0   \n",
       "2                            1                        0   \n",
       "3                            0                        1   \n",
       "4                            0                        0   \n",
       "...                        ...                      ...   \n",
       "22145                        0                        0   \n",
       "22146                        0                        0   \n",
       "22147                        0                        0   \n",
       "22148                        0                        0   \n",
       "22149                        0                        0   \n",
       "\n",
       "       WH_regional_zone_Zone 4  WH_regional_zone_Zone 5  \\\n",
       "0                            0                        0   \n",
       "1                            0                        1   \n",
       "2                            0                        0   \n",
       "3                            0                        0   \n",
       "4                            0                        1   \n",
       "...                        ...                      ...   \n",
       "22145                        0                        0   \n",
       "22146                        0                        0   \n",
       "22147                        0                        0   \n",
       "22148                        0                        0   \n",
       "22149                        1                        0   \n",
       "\n",
       "       WH_regional_zone_Zone 6  wh_owner_type_Rented  \\\n",
       "0                            1                     1   \n",
       "1                            0                     0   \n",
       "2                            0                     0   \n",
       "3                            0                     1   \n",
       "4                            0                     0   \n",
       "...                        ...                   ...   \n",
       "22145                        1                     1   \n",
       "22146                        1                     1   \n",
       "22147                        1                     0   \n",
       "22148                        1                     1   \n",
       "22149                        0                     0   \n",
       "\n",
       "       approved_wh_govt_certificate_A+  approved_wh_govt_certificate_B  \\\n",
       "0                                    0                               0   \n",
       "1                                    0                               0   \n",
       "2                                    0                               0   \n",
       "3                                    1                               0   \n",
       "4                                    0                               0   \n",
       "...                                ...                             ...   \n",
       "22145                                1                               0   \n",
       "22146                                0                               0   \n",
       "22147                                0                               0   \n",
       "22148                                0                               1   \n",
       "22149                                0                               0   \n",
       "\n",
       "       approved_wh_govt_certificate_B+  approved_wh_govt_certificate_C  \n",
       "0                                    0                               0  \n",
       "1                                    0                               0  \n",
       "2                                    0                               0  \n",
       "3                                    0                               0  \n",
       "4                                    0                               1  \n",
       "...                                ...                             ...  \n",
       "22145                                0                               0  \n",
       "22146                                0                               1  \n",
       "22147                                1                               0  \n",
       "22148                                0                               0  \n",
       "22149                                0                               1  \n",
       "\n",
       "[22150 rows x 33 columns]"
      ]
     },
     "execution_count": 59,
     "metadata": {},
     "output_type": "execute_result"
    }
   ],
   "source": [
    "x"
   ]
  },
  {
   "cell_type": "code",
   "execution_count": 60,
   "id": "34e3ea15",
   "metadata": {},
   "outputs": [
    {
     "data": {
      "text/plain": [
       "0        17115\n",
       "1         5074\n",
       "2        23137\n",
       "3        22115\n",
       "4        24071\n",
       "         ...  \n",
       "22145    29138\n",
       "22146    33108\n",
       "22147    24072\n",
       "22148    15055\n",
       "22149    14103\n",
       "Name: product_wg_ton, Length: 22150, dtype: int64"
      ]
     },
     "execution_count": 60,
     "metadata": {},
     "output_type": "execute_result"
    }
   ],
   "source": [
    "y"
   ]
  },
  {
   "cell_type": "code",
   "execution_count": 61,
   "id": "011fcd92",
   "metadata": {},
   "outputs": [],
   "source": [
    "#Split the data into 80% train and 20% test"
   ]
  },
  {
   "cell_type": "code",
   "execution_count": 62,
   "id": "7754154b",
   "metadata": {},
   "outputs": [],
   "source": [
    "from sklearn.model_selection import train_test_split\n",
    "x_train, x_test, y_train, y_test=train_test_split(x, y, test_size=0.2, random_state=10)"
   ]
  },
  {
   "cell_type": "markdown",
   "id": "00980984",
   "metadata": {},
   "source": [
    "# LinearRegression:"
   ]
  },
  {
   "cell_type": "code",
   "execution_count": 63,
   "id": "5411eb8b",
   "metadata": {},
   "outputs": [],
   "source": [
    "from sklearn.linear_model import LinearRegression\n",
    "from sklearn.metrics import r2_score,mean_squared_error"
   ]
  },
  {
   "cell_type": "code",
   "execution_count": 64,
   "id": "daebb819",
   "metadata": {},
   "outputs": [],
   "source": [
    "lm=LinearRegression()"
   ]
  },
  {
   "cell_type": "code",
   "execution_count": 65,
   "id": "50746dbb",
   "metadata": {},
   "outputs": [
    {
     "name": "stdout",
     "output_type": "stream",
     "text": [
      "R_score is  0.9850657580673705\n",
      "MSE 2057507.1197886819\n"
     ]
    }
   ],
   "source": [
    "#Train Data:\n",
    "lm.fit(x_train,y_train)\n",
    "predit=lm.predict(x_test)\n",
    "\n",
    "print(\"R_score is \",r2_score(y_test,predit))\n",
    "print(\"MSE\",mean_squared_error(y_test,predit))"
   ]
  },
  {
   "cell_type": "raw",
   "id": "3bacc7e2",
   "metadata": {},
   "source": [
    "The value for R-squared can range from 0 to 1. A value of 0 indicates that the \n",
    "response variable cannot be explained by the predictor variable at all. A value of 1 \n",
    "indicates that the response variable can be perfectly explained without error by the predictor variable."
   ]
  },
  {
   "cell_type": "raw",
   "id": "b1a701f0",
   "metadata": {},
   "source": [
    "# MSE is used to check how close estimates or forecasts are to actual values. Lower the MSE, \n",
    "the closer is forecast to actual. This is used as a model evaluation measure for regression models and\n",
    "the lower value indicates a better fit"
   ]
  },
  {
   "cell_type": "code",
   "execution_count": 66,
   "id": "486e6227",
   "metadata": {},
   "outputs": [
    {
     "name": "stdout",
     "output_type": "stream",
     "text": [
      "R_score is  0.9851864076481025\n",
      "MSE 2040885.092873926\n"
     ]
    }
   ],
   "source": [
    "#TEST DATA:\n",
    "lm.fit(x_test,y_test)\n",
    "predit=lm.predict(x_test)\n",
    "print(\"R_score is \",r2_score(y_test,predit))\n",
    "print(\"MSE\",mean_squared_error(y_test,predit))"
   ]
  },
  {
   "cell_type": "raw",
   "id": "f37b2e02",
   "metadata": {},
   "source": [
    "slightly test data R_score is more than train data"
   ]
  },
  {
   "cell_type": "code",
   "execution_count": 67,
   "id": "2a8f9c26",
   "metadata": {
    "scrolled": true
   },
   "outputs": [
    {
     "name": "stdout",
     "output_type": "stream",
     "text": [
      "MAE: 1024.7120674245873\n",
      "MSE: 2040885.092873926\n",
      "RMSE: 1428.595496588844\n"
     ]
    }
   ],
   "source": [
    "from sklearn import metrics\n",
    "print(\"MAE:\", metrics.mean_absolute_error(y_test, predit))\n",
    "print('MSE:', metrics.mean_squared_error(y_test, predit))\n",
    "print('RMSE:', np.sqrt(metrics.mean_squared_error(y_test, predit)))"
   ]
  },
  {
   "cell_type": "markdown",
   "id": "b631fb95",
   "metadata": {},
   "source": [
    "# RandomForestRegressor"
   ]
  },
  {
   "cell_type": "code",
   "execution_count": 68,
   "id": "4321b7d0",
   "metadata": {},
   "outputs": [],
   "source": [
    "from sklearn.model_selection import cross_val_score\n",
    "from sklearn.ensemble import RandomForestRegressor\n",
    "\n",
    "np.random.seed(42)"
   ]
  },
  {
   "cell_type": "code",
   "execution_count": 69,
   "id": "c3ec60bd",
   "metadata": {},
   "outputs": [],
   "source": [
    "model=RandomForestRegressor(n_estimators=100)"
   ]
  },
  {
   "cell_type": "code",
   "execution_count": 70,
   "id": "d9978173",
   "metadata": {},
   "outputs": [
    {
     "name": "stdout",
     "output_type": "stream",
     "text": [
      "R_score is  0.9936361812975133\n",
      "MSE 876750.3799977201\n"
     ]
    }
   ],
   "source": [
    "#Train Data:\n",
    "np.random.seed(42)\n",
    "model.fit(x_train,y_train)\n",
    "predit=model.predict(x_test)\n",
    "print(\"R_score is \",r2_score(y_test,predit))\n",
    "print(\"MSE\",mean_squared_error(y_test,predit))"
   ]
  },
  {
   "cell_type": "code",
   "execution_count": 71,
   "id": "a0810bd4",
   "metadata": {
    "scrolled": true
   },
   "outputs": [
    {
     "name": "stdout",
     "output_type": "stream",
     "text": [
      "R_score is  0.9989324492034471\n",
      "MSE 147077.66049004515\n"
     ]
    }
   ],
   "source": [
    "#Test Data:\n",
    "np.random.seed(42)\n",
    "model.fit(x_test,y_test)\n",
    "predit=model.predict(x_test)\n",
    "print(\"R_score is \",r2_score(y_test,predit))\n",
    "print(\"MSE\",mean_squared_error(y_test,predit))"
   ]
  },
  {
   "cell_type": "raw",
   "id": "5b8c572c",
   "metadata": {},
   "source": [
    "slightly test data R_score is more than train data"
   ]
  },
  {
   "cell_type": "code",
   "execution_count": 72,
   "id": "d82dcfde",
   "metadata": {},
   "outputs": [
    {
     "data": {
      "text/plain": [
       "0.9937256859659562"
      ]
     },
     "execution_count": 72,
     "metadata": {},
     "output_type": "execute_result"
    }
   ],
   "source": [
    "np.random.seed(42)\n",
    "cv_r2=cross_val_score(model, x, y, cv=5, scoring=None)\n",
    "np.mean(cv_r2)"
   ]
  },
  {
   "cell_type": "code",
   "execution_count": 73,
   "id": "9c584bb7",
   "metadata": {},
   "outputs": [
    {
     "data": {
      "text/plain": [
       "array([0.99370892, 0.99354695, 0.99348142, 0.99365519, 0.99423595])"
      ]
     },
     "execution_count": 73,
     "metadata": {},
     "output_type": "execute_result"
    }
   ],
   "source": [
    "np.random.seed(42)\n",
    "cv_r2=cross_val_score(model, x, y, cv=5, scoring=\"r2\")\n",
    "cv_r2"
   ]
  },
  {
   "cell_type": "markdown",
   "id": "1bef349f",
   "metadata": {},
   "source": [
    "# xgboost:\n"
   ]
  },
  {
   "cell_type": "code",
   "execution_count": 74,
   "id": "88172b24",
   "metadata": {},
   "outputs": [
    {
     "name": "stdout",
     "output_type": "stream",
     "text": [
      "R_score is  0.9937820812747455\n",
      "MSE 856649.5778755435\n"
     ]
    }
   ],
   "source": [
    "#Train Data:\n",
    "from xgboost import XGBRegressor\n",
    "xg = XGBRegressor()\n",
    "xg.fit(x_train,y_train)\n",
    "predit=xg.predict(x_test)\n",
    "from sklearn.metrics import r2_score\n",
    "print(\"R_score is \",r2_score(y_test,predit))\n",
    "print(\"MSE\",mean_squared_error(y_test,predit))"
   ]
  },
  {
   "cell_type": "code",
   "execution_count": 75,
   "id": "b6dc3a1c",
   "metadata": {},
   "outputs": [
    {
     "name": "stdout",
     "output_type": "stream",
     "text": [
      "R_score is  0.9992372785391554\n",
      "MSE 105080.98390147228\n"
     ]
    }
   ],
   "source": [
    "#Test Data:\n",
    "xg.fit(x_test,y_test)\n",
    "predit=xg.predict(x_test)\n",
    "from sklearn.metrics import r2_score\n",
    "print(\"R_score is \",r2_score(y_test,predit))\n",
    "print(\"MSE\",mean_squared_error(y_test,predit))"
   ]
  },
  {
   "cell_type": "markdown",
   "id": "47b41585",
   "metadata": {},
   "source": [
    "# DecisiontreeRegressor"
   ]
  },
  {
   "cell_type": "code",
   "execution_count": 76,
   "id": "a29af5ca",
   "metadata": {},
   "outputs": [
    {
     "name": "stdout",
     "output_type": "stream",
     "text": [
      "R_score is  0.947720614346059\n",
      "MSE 7202589.102707989\n"
     ]
    }
   ],
   "source": [
    "#Train Data:\n",
    "from sklearn.tree import DecisionTreeRegressor\n",
    "Des= DecisionTreeRegressor(max_depth = 4, min_samples_leaf = 0.1, random_state = 0)\n",
    "Des.fit(x_train,y_train)\n",
    "predit=Des.predict(x_test)\n",
    "from sklearn.metrics import r2_score\n",
    "print(\"R_score is \",r2_score(y_test,predit))\n",
    "print(\"MSE\",mean_squared_error(y_test,predit))\n",
    "\n"
   ]
  },
  {
   "cell_type": "code",
   "execution_count": 77,
   "id": "8d58fe92",
   "metadata": {},
   "outputs": [
    {
     "name": "stdout",
     "output_type": "stream",
     "text": [
      "R_score is  0.9478444997912768\n",
      "MSE 7185521.267144331\n"
     ]
    }
   ],
   "source": [
    "#Test Data:\n",
    "Des.fit(x_test,y_test)\n",
    "predit=Des.predict(x_test)\n",
    "from sklearn.metrics import r2_score\n",
    "print(\"R_score is \",r2_score(y_test,predit))\n",
    "print(\"MSE\",mean_squared_error(y_test,predit))"
   ]
  },
  {
   "cell_type": "raw",
   "id": "c2795db0",
   "metadata": {},
   "source": [
    "Test and Train Data R_score is same"
   ]
  },
  {
   "cell_type": "markdown",
   "id": "690226bc",
   "metadata": {},
   "source": [
    "# BaggingRegressor"
   ]
  },
  {
   "cell_type": "code",
   "execution_count": 78,
   "id": "2a619ca6",
   "metadata": {
    "scrolled": true
   },
   "outputs": [
    {
     "name": "stdout",
     "output_type": "stream",
     "text": [
      "R_score is  0.9937193723955801\n",
      "MSE 865289.0498982393\n"
     ]
    }
   ],
   "source": [
    "#Train Data:\n",
    "from sklearn.ensemble import BaggingRegressor\n",
    "model=RandomForestRegressor(n_estimators=100)\n",
    "model.fit(x_train,y_train)\n",
    "predit=model.predict(x_test)\n",
    "from sklearn.metrics import r2_score\n",
    "print(\"R_score is \",r2_score(y_test,predit))\n",
    "print(\"MSE\",mean_squared_error(y_test,predit))\n",
    "\n"
   ]
  },
  {
   "cell_type": "code",
   "execution_count": 79,
   "id": "ce1ec7a2",
   "metadata": {
    "scrolled": false
   },
   "outputs": [
    {
     "name": "stdout",
     "output_type": "stream",
     "text": [
      "R_score is  0.9989536975944778\n",
      "MSE 144150.24602690744\n"
     ]
    }
   ],
   "source": [
    "#Test Data:\n",
    "model.fit(x_test,y_test)\n",
    "predit=model.predict(x_test)\n",
    "from sklearn.metrics import r2_score\n",
    "print(\"R_score is \",r2_score(y_test,predit))\n",
    "print(\"MSE\",mean_squared_error(y_test,predit))"
   ]
  },
  {
   "cell_type": "raw",
   "id": "ee57ba4f",
   "metadata": {},
   "source": [
    "slightly test data R_score is more than train data"
   ]
  },
  {
   "cell_type": "markdown",
   "id": "d257b317",
   "metadata": {},
   "source": [
    "# KNeighborsRegressor"
   ]
  },
  {
   "cell_type": "code",
   "execution_count": 80,
   "id": "71d02a56",
   "metadata": {},
   "outputs": [
    {
     "name": "stdout",
     "output_type": "stream",
     "text": [
      "R_score is  0.5108562263354448\n",
      "MSE 67389881.68634312\n"
     ]
    }
   ],
   "source": [
    "#TRain Data:\n",
    "from sklearn.neighbors import KNeighborsRegressor\n",
    "neigh = KNeighborsRegressor(n_neighbors=2)\n",
    "neigh.fit(x_train,y_train)\n",
    "predit=neigh.predict(x_test)\n",
    "from sklearn.metrics import r2_score\n",
    "print(\"R_score is \",r2_score(y_test,predit))\n",
    "print(\"MSE\",mean_squared_error(y_test,predit))\n"
   ]
  },
  {
   "cell_type": "code",
   "execution_count": 81,
   "id": "a258c701",
   "metadata": {},
   "outputs": [
    {
     "name": "stdout",
     "output_type": "stream",
     "text": [
      "R_score is  0.7647021076326378\n",
      "MSE 32417252.311907448\n"
     ]
    }
   ],
   "source": [
    "#Test Data:\n",
    "neigh.fit(x_test,y_test)\n",
    "predit=neigh.predict(x_test)\n",
    "from sklearn.metrics import r2_score\n",
    "print(\"R_score is \",r2_score(y_test,predit))\n",
    "print(\"MSE\",mean_squared_error(y_test,predit))"
   ]
  },
  {
   "cell_type": "raw",
   "id": "029e17d9",
   "metadata": {},
   "source": [
    "It is definitely possible to have a testing accuracy that is higher than the training accuracy. \n",
    "If the difference between the two is relatively large you are probably underfitting your model"
   ]
  },
  {
   "cell_type": "code",
   "execution_count": 82,
   "id": "b0d66920",
   "metadata": {},
   "outputs": [],
   "source": [
    "from sklearn.model_selection import train_test_split, KFold, cross_val_score, GridSearchCV\n",
    "from sklearn.preprocessing import StandardScaler\n",
    "from sklearn.linear_model import LinearRegression, SGDRegressor, Ridge, Lasso, ElasticNet, BayesianRidge,RANSACRegressor,HuberRegressor\n",
    "from sklearn.ensemble import RandomForestRegressor, AdaBoostRegressor, BaggingRegressor, GradientBoostingRegressor, ExtraTreesRegressor\n",
    "from sklearn.neighbors import KNeighborsRegressor\n",
    "from sklearn.tree import DecisionTreeRegressor\n",
    "from xgboost import XGBRegressor\n",
    "from sklearn.decomposition import PCA, KernelPCA\n",
    "from sklearn.metrics import mean_squared_error, r2_score, mean_squared_error, make_scorer\n",
    "from sklearn.pipeline import Pipeline\n"
   ]
  },
  {
   "cell_type": "code",
   "execution_count": 83,
   "id": "93421ad7",
   "metadata": {},
   "outputs": [],
   "source": [
    "est =[]\n",
    "est.append(('LinearRegression', Pipeline([('LinearRegression', LinearRegression())])))\n",
    "est.append(('SGD', Pipeline([('SGD', SGDRegressor())])))\n",
    "est.append(('GradientBoosting', Pipeline([('GradientBoosting',GradientBoostingRegressor())])))\n",
    "est.append(('AdaBoost', Pipeline([('AdaBoost', AdaBoostRegressor())])))\n",
    "est.append(('RandomForest', Pipeline([('RandomForest', RandomForestRegressor())]))) \n",
    "est.append(('Bagging', Pipeline([('Bagging', BaggingRegressor())])))\n",
    "est.append(('KNeighbors', Pipeline([('KNeighbors', KNeighborsRegressor())])))\n",
    "est.append(('DecisionTree', Pipeline([('DecisionTree', DecisionTreeRegressor())])))\n",
    "est.append(('XGB', Pipeline([('XGB', XGBRegressor())])))"
   ]
  },
  {
   "cell_type": "markdown",
   "id": "f1208c09",
   "metadata": {},
   "source": [
    "# Train Data Results:"
   ]
  },
  {
   "cell_type": "code",
   "execution_count": 84,
   "id": "361d8e54",
   "metadata": {},
   "outputs": [
    {
     "data": {
      "text/plain": [
       "[('GradientBoosting', 0.9940612010141363),\n",
       " ('XGB', 0.99381166203322),\n",
       " ('RandomForest', 0.9936407899654954),\n",
       " ('Bagging', 0.993120966931688),\n",
       " ('DecisionTree', 0.9881044885638869),\n",
       " ('LinearRegression', 0.985959562499028),\n",
       " ('AdaBoost', 0.9765928602744766),\n",
       " ('KNeighbors', 0.5282501622384143),\n",
       " ('SGD', -1.1453895009907834e+23)]"
      ]
     },
     "execution_count": 84,
     "metadata": {},
     "output_type": "execute_result"
    }
   ],
   "source": [
    "import warnings\n",
    "warnings.filterwarnings(action='ignore')\n",
    "seed = 4\n",
    "splits = 7\n",
    "models_score ={}\n",
    "for i in est:\n",
    "    kfold = KFold(n_splits=splits, random_state=seed, shuffle=True)\n",
    "    results = cross_val_score(i[1],x_train,y_train, cv=kfold)\n",
    "    models_score.update({i[0] : results.mean()})\n",
    "    \n",
    "sorted(models_score.items(), key= lambda v:v[1], reverse=True)"
   ]
  },
  {
   "cell_type": "markdown",
   "id": "dac5fe8f",
   "metadata": {},
   "source": [
    "# Test Data Results:"
   ]
  },
  {
   "cell_type": "code",
   "execution_count": 85,
   "id": "11485b4b",
   "metadata": {
    "scrolled": false
   },
   "outputs": [
    {
     "data": {
      "text/plain": [
       "[('GradientBoosting', 0.9933454043814187),\n",
       " ('XGB', 0.9926514741053488),\n",
       " ('RandomForest', 0.9924071032904689),\n",
       " ('Bagging', 0.9915493349731445),\n",
       " ('DecisionTree', 0.985268446179035),\n",
       " ('LinearRegression', 0.984938662027601),\n",
       " ('AdaBoost', 0.9750741954788568),\n",
       " ('KNeighbors', 0.283878842931318),\n",
       " ('SGD', -5.3013428151170114e+23)]"
      ]
     },
     "execution_count": 85,
     "metadata": {},
     "output_type": "execute_result"
    }
   ],
   "source": [
    "import warnings\n",
    "warnings.filterwarnings(action='ignore')\n",
    "seed = 4\n",
    "splits = 7\n",
    "models_score ={}\n",
    "for i in est:\n",
    "    kfold = KFold(n_splits=splits, random_state=seed, shuffle=True)\n",
    "    results = cross_val_score(i[1],x_test,y_test, cv=kfold)\n",
    "    models_score.update({i[0] : results.mean()})\n",
    "    \n",
    "sorted(models_score.items(), key= lambda v:v[1], reverse=True)"
   ]
  },
  {
   "cell_type": "markdown",
   "id": "2bb966d1",
   "metadata": {},
   "source": [
    "# model evaluation parameters "
   ]
  },
  {
   "cell_type": "raw",
   "id": "f55b1cb7",
   "metadata": {},
   "source": [
    "If the training result is very good and the test result is poor then the model has overfitted. \n",
    "If the training accuracy and test accuracy is low then the model has underfit. If the model is underfitting or overfitting then \n",
    "we change the value of the hyperparameter and again retrain the model until we get a good fit."
   ]
  },
  {
   "cell_type": "raw",
   "id": "b214e295",
   "metadata": {},
   "source": [
    "Overfitting:\n",
    "Training Dataset accuracy more \n",
    "Testing Dataset accuracy less "
   ]
  },
  {
   "cell_type": "raw",
   "id": "ebedeca4",
   "metadata": {},
   "source": [
    "Underfitting:\n",
    "Training Dataset accuracy less \n",
    "Testing Dataset accuracy less \n"
   ]
  },
  {
   "cell_type": "markdown",
   "id": "b7153253",
   "metadata": {},
   "source": [
    "# GradientBoosting,XGB,RandomForest:\n",
    "Here I can see accuracies of all model in Regression.The best Accuracy top three models for train and test data are GradientBoosting,XGB,RandomForest.There is NO Overfitting and Underfitting in above Three models."
   ]
  }
 ],
 "metadata": {
  "kernelspec": {
   "display_name": "Python 3 (ipykernel)",
   "language": "python",
   "name": "python3"
  },
  "language_info": {
   "codemirror_mode": {
    "name": "ipython",
    "version": 3
   },
   "file_extension": ".py",
   "mimetype": "text/x-python",
   "name": "python",
   "nbconvert_exporter": "python",
   "pygments_lexer": "ipython3",
   "version": "3.9.7"
  }
 },
 "nbformat": 4,
 "nbformat_minor": 5
}
